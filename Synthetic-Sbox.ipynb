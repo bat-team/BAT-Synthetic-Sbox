{
 "cells": [
  {
   "cell_type": "code",
   "execution_count": 1,
   "metadata": {
    "ExecuteTime": {
     "end_time": "2020-03-04T02:28:32.188732Z",
     "start_time": "2020-03-04T02:28:32.179212Z"
    },
    "deletable": false,
    "editable": false
   },
   "outputs": [],
   "source": [
    "from sage.crypto.sbox import SBox"
   ]
  },
  {
   "cell_type": "code",
   "execution_count": 2,
   "metadata": {
    "ExecuteTime": {
     "end_time": "2020-03-04T02:28:32.208037Z",
     "start_time": "2020-03-04T02:28:32.193513Z"
    },
    "code_folding": [
     0
    ],
    "deletable": false,
    "editable": false
   },
   "outputs": [],
   "source": [
    "def PrintTable(table, l=16):\n",
    "    print 'I\\O',\n",
    "    for i in range(l):\n",
    "        print '%2X' % i,    \n",
    "    print    \n",
    "    for i,j in enumerate(table):\n",
    "        if i == 0:\n",
    "            print '%2X ' % i,\n",
    "        else:\n",
    "            print '%2X ' % i,\n",
    "        for k in j:\n",
    "            if k == 0:\n",
    "                print '--',\n",
    "            else:\n",
    "                print '%2d' % k,\n",
    "        print"
   ]
  },
  {
   "cell_type": "code",
   "execution_count": 3,
   "metadata": {
    "ExecuteTime": {
     "end_time": "2020-03-04T02:28:32.228493Z",
     "start_time": "2020-03-04T02:28:32.212779Z"
    },
    "deletable": false,
    "editable": false
   },
   "outputs": [],
   "source": [
    "n_0 = (0, 1, 2, 11, 4, 5, 6, 15, 8, 9, 10,  3, 13, 12,  7, 14)\n",
    "n_1 = (0, 1, 2,  3, 4, 7, 6,  5, 8, 9, 14, 13, 12, 15, 10, 11)\n",
    "ssb = (\n",
    "    0x00, 0x11, 0x22, 0xb3,\n",
    "    0x44, 0x57, 0x66, 0xf5,\n",
    "    0x88, 0x99, 0xae, 0x3d,\n",
    "    0xdc, 0xcf, 0x7a, 0xeb)\n",
    "\n",
    "N_0 = SBox(n_0)\n",
    "N_1 = SBox(n_1)\n",
    "SSb = SBox(ssb)"
   ]
  },
  {
   "cell_type": "markdown",
   "metadata": {},
   "source": [
    "# DDT "
   ]
  },
  {
   "cell_type": "markdown",
   "metadata": {
    "deletable": false,
    "editable": false
   },
   "source": [
    "## $N_0$"
   ]
  },
  {
   "cell_type": "code",
   "execution_count": 4,
   "metadata": {
    "ExecuteTime": {
     "end_time": "2020-03-04T02:28:33.240683Z",
     "start_time": "2020-03-04T02:28:32.363755Z"
    },
    "deletable": false,
    "editable": false
   },
   "outputs": [
    {
     "name": "stdout",
     "output_type": "stream",
     "text": [
      "I\\O  0  1  2  3  4  5  6  7  8  9  A  B  C  D  E  F\n",
      " 0  16 -- -- -- -- -- -- -- -- -- -- -- -- -- -- --\n",
      " 1  --  8 -- -- -- -- -- -- --  8 -- -- -- -- -- --\n",
      " 2  -- --  8 -- -- -- -- -- -- --  8 -- -- -- -- --\n",
      " 3  -- -- --  8 -- -- -- -- -- -- --  8 -- -- -- --\n",
      " 4  -- -- -- --  8  4 -- -- -- -- -- -- --  4 -- --\n",
      " 5  -- -- -- --  8  4 -- -- -- -- -- -- --  4 -- --\n",
      " 6  -- -- -- -- -- --  4  4 -- -- -- -- -- --  4  4\n",
      " 7  -- -- -- -- -- --  4  4 -- -- -- -- -- --  4  4\n",
      " 8  --  4 -- -- -- -- -- --  8  4 -- -- -- -- -- --\n",
      " 9  --  4 -- -- -- -- -- --  8  4 -- -- -- -- -- --\n",
      " A  -- --  4  4 -- -- -- -- -- --  4  4 -- -- -- --\n",
      " B  -- --  4  4 -- -- -- -- -- --  4  4 -- -- -- --\n",
      " C  -- -- -- -- --  4 -- -- -- -- -- --  8  4 -- --\n",
      " D  -- -- -- -- --  4 -- -- -- -- -- --  8  4 -- --\n",
      " E  -- -- -- -- -- --  4  4 -- -- -- -- -- --  4  4\n",
      " F  -- -- -- -- -- --  4  4 -- -- -- -- -- --  4  4\n"
     ]
    },
    {
     "data": {
      "image/png": "[encoded data removed]",
      "text/plain": [
       "Graphics object consisting of 1 graphics primitive"
      ]
     },
     "execution_count": 4,
     "metadata": {},
     "output_type": "execute_result"
    }
   ],
   "source": [
    "DDT_N_0 = N_0.difference_distribution_table()\n",
    "PrintTable(DDT_N_0)\n",
    "matrix_plot(DDT_N_0, cmap='Purples')"
   ]
  },
  {
   "cell_type": "markdown",
   "metadata": {},
   "source": [
    "## $N_1$"
   ]
  },
  {
   "cell_type": "code",
   "execution_count": 5,
   "metadata": {
    "ExecuteTime": {
     "end_time": "2020-03-04T02:28:33.610645Z",
     "start_time": "2020-03-04T02:28:33.246097Z"
    },
    "deletable": false,
    "editable": false
   },
   "outputs": [
    {
     "name": "stdout",
     "output_type": "stream",
     "text": [
      "I\\O  0  1  2  3  4  5  6  7  8  9  A  B  C  D  E  F\n",
      " 0  16 -- -- -- -- -- -- -- -- -- -- -- -- -- -- --\n",
      " 1  --  8 --  8 -- -- -- -- -- -- -- -- -- -- -- --\n",
      " 2  -- --  8 --  4 --  4 -- -- -- -- -- -- -- -- --\n",
      " 3  --  4 --  4 --  4 --  4 -- -- -- -- -- -- -- --\n",
      " 4  -- -- -- --  8 --  8 -- -- -- -- -- -- -- -- --\n",
      " 5  -- -- -- -- --  8 --  8 -- -- -- -- -- -- -- --\n",
      " 6  -- --  8 --  4 --  4 -- -- -- -- -- -- -- -- --\n",
      " 7  --  4 --  4 --  4 --  4 -- -- -- -- -- -- -- --\n",
      " 8  -- -- -- -- -- -- -- --  8 -- -- --  4 --  4 --\n",
      " 9  -- -- -- -- -- -- -- -- --  4 --  4 --  4 --  4\n",
      " A  -- -- -- -- -- -- -- -- -- --  8 --  4 --  4 --\n",
      " B  -- -- -- -- -- -- -- -- --  4 --  4 --  4 --  4\n",
      " C  -- -- -- -- -- -- -- --  8 -- -- --  4 --  4 --\n",
      " D  -- -- -- -- -- -- -- -- --  4 --  4 --  4 --  4\n",
      " E  -- -- -- -- -- -- -- -- -- --  8 --  4 --  4 --\n",
      " F  -- -- -- -- -- -- -- -- --  4 --  4 --  4 --  4\n"
     ]
    },
    {
     "data": {
      "image/png": "[encoded data removed]",
      "text/plain": [
       "Graphics object consisting of 1 graphics primitive"
      ]
     },
     "execution_count": 5,
     "metadata": {},
     "output_type": "execute_result"
    }
   ],
   "source": [
    "DDT_N_1 = N_1.difference_distribution_table()\n",
    "PrintTable(DDT_N_1)\n",
    "matrix_plot(DDT_N_1, cmap='Purples')"
   ]
  },
  {
   "cell_type": "markdown",
   "metadata": {},
   "source": [
    "## SSb"
   ]
  },
  {
   "cell_type": "code",
   "execution_count": 6,
   "metadata": {
    "ExecuteTime": {
     "end_time": "2020-03-04T02:28:35.140454Z",
     "start_time": "2020-03-04T02:28:33.618732Z"
    }
   },
   "outputs": [
    {
     "name": "stdout",
     "output_type": "stream",
     "text": [
      "I\\O  0  1  2  3  4  5  6  7  8  9  A  B  C  D  E  F 10 11 12 13 14 15 16 17 18 19 1A 1B 1C 1D 1E 1F 20 21 22 23 24 25 26 27 28 29 2A 2B 2C 2D 2E 2F 30 31 32 33 34 35 36 37 38 39 3A 3B 3C 3D 3E 3F 40 41 42 43 44 45 46 47 48 49 4A 4B 4C 4D 4E 4F 50 51 52 53 54 55 56 57 58 59 5A 5B 5C 5D 5E 5F 60 61 62 63 64 65 66 67 68 69 6A 6B 6C 6D 6E 6F 70 71 72 73 74 75 76 77 78 79 7A 7B 7C 7D 7E 7F 80 81 82 83 84 85 86 87 88 89 8A 8B 8C 8D 8E 8F 90 91 92 93 94 95 96 97 98 99 9A 9B 9C 9D 9E 9F A0 A1 A2 A3 A4 A5 A6 A7 A8 A9 AA AB AC AD AE AF B0 B1 B2 B3 B4 B5 B6 B7 B8 B9 BA BB BC BD BE BF C0 C1 C2 C3 C4 C5 C6 C7 C8 C9 CA CB CC CD CE CF D0 D1 D2 D3 D4 D5 D6 D7 D8 D9 DA DB DC DD DE DF E0 E1 E2 E3 E4 E5 E6 E7 E8 E9 EA EB EC ED EE EF F0 F1 F2 F3 F4 F5 F6 F7 F8 F9 FA FB FC FD FE FF\n",
      " 0  16 -- -- -- -- -- -- -- -- -- -- -- -- -- -- -- -- -- -- -- -- -- -- -- -- -- -- -- -- -- -- -- -- -- -- -- -- -- -- -- -- -- -- -- -- -- -- -- -- -- -- -- -- -- -- -- -- -- -- -- -- -- -- -- -- -- -- -- -- -- -- -- -- -- -- -- -- -- -- -- -- -- -- -- -- -- -- -- -- -- -- -- -- -- -- -- -- -- -- -- -- -- -- -- -- -- -- -- -- -- -- -- -- -- -- -- -- -- -- -- -- -- -- -- -- -- -- -- -- -- -- -- -- -- -- -- -- -- -- -- -- -- -- -- -- -- -- -- -- -- -- -- -- -- -- -- -- -- -- -- -- -- -- -- -- -- -- -- -- -- -- -- -- -- -- -- -- -- -- -- -- -- -- -- -- -- -- -- -- -- -- -- -- -- -- -- -- -- -- -- -- -- -- -- -- -- -- -- -- -- -- -- -- -- -- -- -- -- -- -- -- -- -- -- -- -- -- -- -- -- -- -- -- -- -- -- -- -- -- -- -- -- -- -- -- -- -- -- -- -- -- -- -- -- -- --\n",
      " 1  -- -- -- -- -- -- -- -- -- -- -- -- -- -- -- -- --  4 --  4 -- -- -- -- -- -- -- -- -- -- -- -- -- -- -- -- -- -- -- -- -- -- -- -- -- -- -- -- -- -- -- -- -- -- -- -- -- -- -- -- -- -- -- -- -- -- -- -- -- -- -- -- -- -- -- -- -- -- -- -- -- -- -- -- -- -- -- -- -- -- -- -- -- -- -- -- -- -- -- -- -- -- -- -- -- -- -- -- -- -- -- -- -- -- -- -- -- -- -- -- -- -- -- -- -- -- -- -- -- -- -- -- -- -- -- -- -- -- -- -- -- -- -- -- --  4 --  4 -- -- -- -- -- -- -- -- -- -- -- -- -- -- -- -- -- -- -- -- -- -- -- -- -- -- -- -- -- -- -- -- -- -- -- -- -- -- -- -- -- -- -- -- -- -- -- -- -- -- -- -- -- -- -- -- -- -- -- -- -- -- -- -- -- -- -- -- -- -- -- -- -- -- -- -- -- -- -- -- -- -- -- -- -- -- -- -- -- -- -- -- -- -- -- -- -- -- -- -- -- -- -- -- -- -- -- --\n",
      " 2  -- -- -- -- -- -- -- -- -- -- -- -- -- -- -- -- -- -- -- -- -- -- -- -- -- -- -- -- -- -- -- -- -- --  4 --  2 --  2 -- -- -- -- -- -- -- -- -- -- -- -- -- -- -- -- -- -- -- -- -- -- -- -- -- -- -- -- -- -- -- -- -- -- -- -- -- -- -- -- -- -- -- -- -- -- -- -- -- -- -- -- -- -- -- -- -- -- -- -- -- -- -- -- -- -- -- -- -- -- -- -- -- -- -- -- -- -- -- -- -- -- -- -- -- -- -- -- -- -- -- -- -- -- -- -- -- -- -- -- -- -- -- -- -- -- -- -- -- -- -- -- -- -- -- -- -- -- -- -- -- -- --  4 --  2 --  2 -- -- -- -- -- -- -- -- -- -- -- -- -- -- -- -- -- -- -- -- -- -- -- -- -- -- -- -- -- -- -- -- -- -- -- -- -- -- -- -- -- -- -- -- -- -- -- -- -- -- -- -- -- -- -- -- -- -- -- -- -- -- -- -- -- -- -- -- -- -- -- -- -- -- -- -- -- -- -- -- -- -- -- -- -- -- -- -- --\n",
      " 3  -- -- -- -- -- -- -- -- -- -- -- -- -- -- -- -- -- -- -- -- -- -- -- -- -- -- -- -- -- -- -- -- -- -- -- -- -- -- -- -- -- -- -- -- -- -- -- -- --  2 --  2 -- -- --  4 -- -- -- -- -- -- -- -- -- -- -- -- -- -- -- -- -- -- -- -- -- -- -- -- -- -- -- -- -- -- -- -- -- -- -- -- -- -- -- -- -- -- -- -- -- -- -- -- -- -- -- -- -- -- -- -- -- -- -- -- -- -- -- -- -- -- -- -- -- -- -- -- -- -- -- -- -- -- -- -- -- -- -- -- -- -- -- -- -- -- -- -- -- -- -- -- -- -- -- -- -- -- -- -- -- -- -- -- -- -- -- -- -- -- -- -- -- -- -- -- --  2 --  2 --  4 -- -- -- -- -- -- -- -- -- -- -- -- -- -- -- -- -- -- -- -- -- -- -- -- -- -- -- -- -- -- -- -- -- -- -- -- -- -- -- -- -- -- -- -- -- -- -- -- -- -- -- -- -- -- -- -- -- -- -- -- -- -- -- -- -- -- -- -- -- -- -- -- -- --\n",
      " 4  -- -- -- -- -- -- -- -- -- -- -- -- -- -- -- -- -- -- -- -- -- -- -- -- -- -- -- -- -- -- -- -- -- -- -- -- -- -- -- -- -- -- -- -- -- -- -- -- -- -- -- -- -- -- -- -- -- -- -- -- -- -- -- -- -- -- -- --  4 --  4 -- -- -- -- -- -- -- -- -- -- -- -- --  2 --  2 -- -- -- -- -- -- -- -- -- -- -- -- -- -- -- -- -- -- -- -- -- -- -- -- -- -- -- -- -- -- -- -- -- -- -- -- -- -- -- -- -- -- -- -- -- -- -- -- -- -- -- -- -- -- -- -- -- -- -- -- -- -- -- -- -- -- -- -- -- -- -- -- -- -- -- -- -- -- -- -- -- -- -- -- -- -- -- -- -- -- -- -- -- -- -- -- -- -- -- -- -- -- -- -- -- -- -- -- -- -- -- -- -- -- -- -- -- -- -- -- -- -- -- -- --  2 --  2 -- -- -- -- -- -- -- -- -- -- -- -- -- -- -- -- -- -- -- -- -- -- -- -- -- -- -- -- -- -- -- -- -- -- -- -- -- -- -- -- --\n",
      " 5  -- -- -- -- -- -- -- -- -- -- -- -- -- -- -- -- -- -- -- -- -- -- -- -- -- -- -- -- -- -- -- -- -- -- -- -- -- -- -- -- -- -- -- -- -- -- -- -- -- -- -- -- -- -- -- -- -- -- -- -- -- -- -- -- -- -- -- -- --  4 --  4 -- -- -- -- -- -- -- -- -- -- -- -- --  2 --  2 -- -- -- -- -- -- -- -- -- -- -- -- -- -- -- -- -- -- -- -- -- -- -- -- -- -- -- -- -- -- -- -- -- -- -- -- -- -- -- -- -- -- -- -- -- -- -- -- -- -- -- -- -- -- -- -- -- -- -- -- -- -- -- -- -- -- -- -- -- -- -- -- -- -- -- -- -- -- -- -- -- -- -- -- -- -- -- -- -- -- -- -- -- -- -- -- -- -- -- -- -- -- -- -- -- -- -- -- -- -- -- -- -- -- -- -- -- -- -- -- -- -- -- -- --  2 --  2 -- -- -- -- -- -- -- -- -- -- -- -- -- -- -- -- -- -- -- -- -- -- -- -- -- -- -- -- -- -- -- -- -- -- -- -- -- -- -- --\n",
      " 6  -- -- -- -- -- -- -- -- -- -- -- -- -- -- -- -- -- -- -- -- -- -- -- -- -- -- -- -- -- -- -- -- -- -- -- -- -- -- -- -- -- -- -- -- -- -- -- -- -- -- -- -- -- -- -- -- -- -- -- -- -- -- -- -- -- -- -- -- -- -- -- -- -- -- -- -- -- -- -- -- -- -- -- -- -- -- -- -- -- -- -- -- -- -- -- -- -- -- -- -- -- --  4 -- -- -- -- -- -- -- -- -- -- --  4 -- -- -- -- -- -- -- -- -- -- -- -- -- -- -- -- -- -- -- -- -- -- -- -- -- -- -- -- -- -- -- -- -- -- -- -- -- -- -- -- -- -- -- -- -- -- -- -- -- -- -- -- -- -- -- -- -- -- -- -- -- -- -- -- -- -- -- -- -- -- -- -- -- -- -- -- -- -- -- -- -- -- -- -- -- -- -- -- -- -- -- -- -- -- -- -- -- -- -- -- -- -- -- -- -- -- -- -- -- -- -- -- --  4 -- -- -- -- -- -- -- -- -- -- -- -- --  4 -- -- -- -- -- -- -- -- -- -- -- -- --\n",
      " 7  -- -- -- -- -- -- -- -- -- -- -- -- -- -- -- -- -- -- -- -- -- -- -- -- -- -- -- -- -- -- -- -- -- -- -- -- -- -- -- -- -- -- -- -- -- -- -- -- -- -- -- -- -- -- -- -- -- -- -- -- -- -- -- -- -- -- -- -- -- -- -- -- -- -- -- -- -- -- -- -- -- -- -- -- -- -- -- -- -- -- -- -- -- -- -- -- --  2 --  2 -- -- -- -- -- -- -- -- -- -- -- -- -- -- -- -- --  2 --  2 -- -- -- -- -- -- -- -- -- -- -- -- -- -- -- -- -- -- -- -- -- -- -- -- -- -- -- -- -- -- -- -- -- -- -- -- -- -- -- -- -- -- -- -- -- -- -- -- -- -- -- -- -- -- -- -- -- -- -- -- -- -- -- -- -- -- -- -- -- -- -- -- -- -- -- -- -- -- -- -- -- -- -- -- -- -- -- -- -- -- -- -- -- -- -- -- -- -- -- -- -- -- -- -- --  2 --  2 -- -- -- -- -- -- -- -- -- -- -- -- -- -- -- -- --  2 --  2 -- -- -- -- -- -- -- --\n",
      " 8  -- -- -- -- -- -- -- -- -- -- -- -- -- -- -- -- -- -- -- -- -- -- -- -- -- -- -- --  2 --  2 -- -- -- -- -- -- -- -- -- -- -- -- -- -- -- -- -- -- -- -- -- -- -- -- -- -- -- -- -- -- -- -- -- -- -- -- -- -- -- -- -- -- -- -- -- -- -- -- -- -- -- -- -- -- -- -- -- -- -- -- -- -- -- -- -- -- -- -- -- -- -- -- -- -- -- -- -- -- -- -- -- -- -- -- -- -- -- -- -- -- -- -- -- -- -- -- -- -- -- -- -- -- -- -- --  4 -- -- --  2 --  2 -- -- -- -- -- -- -- -- --  4 -- -- -- -- -- -- -- -- -- -- -- -- -- -- -- -- -- -- -- -- -- -- -- -- -- -- -- -- -- -- -- -- -- -- -- -- -- -- -- -- -- -- -- -- -- -- -- -- -- -- -- -- -- -- -- -- -- -- -- -- -- -- -- -- -- -- -- -- -- -- -- -- -- -- -- -- -- -- -- -- -- -- -- -- -- -- -- -- -- -- -- -- -- -- -- -- -- -- -- -- -- -- --\n",
      " 9  -- -- -- -- -- -- -- -- -- -- -- -- -- -- -- -- -- -- -- -- -- -- -- -- -- -- -- -- --  2 --  2 -- -- -- -- -- -- -- -- -- -- -- -- -- -- -- -- -- -- -- -- -- -- -- -- -- -- -- -- -- -- -- -- -- -- -- -- -- -- -- -- -- -- -- -- -- -- -- -- -- -- -- -- -- -- -- -- -- -- -- -- -- -- -- -- -- -- -- -- -- -- -- -- -- -- -- -- -- -- -- -- -- -- -- -- -- -- -- -- -- -- -- -- -- -- -- -- -- -- -- -- -- -- -- -- -- -- --  4 --  2 --  2 -- -- -- -- -- -- -- -- --  4 -- -- -- -- -- -- -- -- -- -- -- -- -- -- -- -- -- -- -- -- -- -- -- -- -- -- -- -- -- -- -- -- -- -- -- -- -- -- -- -- -- -- -- -- -- -- -- -- -- -- -- -- -- -- -- -- -- -- -- -- -- -- -- -- -- -- -- -- -- -- -- -- -- -- -- -- -- -- -- -- -- -- -- -- -- -- -- -- -- -- -- -- -- -- -- -- -- -- -- -- -- --\n"
     ]
    },
    {
     "name": "stdout",
     "output_type": "stream",
     "text": [
      " A  -- -- -- -- -- -- -- -- -- -- -- -- -- -- -- -- -- -- -- -- -- -- -- -- -- -- -- -- -- -- -- -- -- -- -- -- -- -- -- -- -- --  2 --  2 -- -- -- -- -- -- -- -- -- -- -- -- --  2 -- -- --  2 -- -- -- -- -- -- -- -- -- -- -- -- -- -- -- -- -- -- -- -- -- -- -- -- -- -- -- -- -- -- -- -- -- -- -- -- -- -- -- -- -- -- -- -- -- -- -- -- -- -- -- -- -- -- -- -- -- -- -- -- -- -- -- -- -- -- -- -- -- -- -- -- -- -- -- -- -- -- -- -- -- -- -- -- -- -- -- -- -- -- -- -- -- -- -- -- -- -- -- -- -- -- -- -- -- -- --  2 -- -- --  2 -- -- -- -- -- -- -- -- -- -- --  2 --  2 -- -- -- -- -- -- -- -- -- -- -- -- -- -- -- -- -- -- -- -- -- -- -- -- -- -- -- -- -- -- -- -- -- -- -- -- -- -- -- -- -- -- -- -- -- -- -- -- -- -- -- -- -- -- -- -- -- -- -- -- -- -- -- -- -- -- --\n",
      " B  -- -- -- -- -- -- -- -- -- -- -- -- -- -- -- -- -- -- -- -- -- -- -- -- -- -- -- -- -- -- -- -- -- -- -- -- -- -- -- -- --  2 -- -- --  2 -- -- -- -- -- -- -- -- -- -- -- -- --  2 --  2 -- -- -- -- -- -- -- -- -- -- -- -- -- -- -- -- -- -- -- -- -- -- -- -- -- -- -- -- -- -- -- -- -- -- -- -- -- -- -- -- -- -- -- -- -- -- -- -- -- -- -- -- -- -- -- -- -- -- -- -- -- -- -- -- -- -- -- -- -- -- -- -- -- -- -- -- -- -- -- -- -- -- -- -- -- -- -- -- -- -- -- -- -- -- -- -- -- -- -- -- -- -- -- -- -- -- --  2 -- -- -- -- --  2 -- -- -- -- -- -- -- -- -- -- --  2 -- -- --  2 -- -- -- -- -- -- -- -- -- -- -- -- -- -- -- -- -- -- -- -- -- -- -- -- -- -- -- -- -- -- -- -- -- -- -- -- -- -- -- -- -- -- -- -- -- -- -- -- -- -- -- -- -- -- -- -- -- -- -- -- -- -- -- --\n",
      " C  -- -- -- -- -- -- -- -- -- -- -- -- -- -- -- -- -- -- -- -- -- -- -- -- -- -- -- -- -- -- -- -- -- -- -- -- -- -- -- -- -- -- -- -- -- -- -- -- -- -- -- -- -- -- -- -- -- -- -- -- -- -- -- -- -- -- -- -- -- -- -- -- -- -- -- -- -- -- -- -- -- -- -- -- -- -- -- --  4 -- -- -- -- -- -- -- -- -- -- -- -- -- -- -- -- -- -- -- -- -- -- -- -- -- -- -- -- -- -- -- -- -- -- -- -- -- -- -- -- -- -- -- -- -- -- -- -- -- -- -- -- -- -- -- -- -- -- -- -- -- -- -- -- -- -- -- -- -- -- -- -- -- -- -- -- -- -- -- -- -- -- -- -- -- -- -- -- -- -- -- -- -- -- -- -- -- -- -- -- -- -- -- -- -- -- -- -- -- -- --  4 -- -- --  2 --  2 -- -- -- -- -- -- -- -- -- -- -- -- --  2 --  2 -- -- -- -- -- -- -- -- -- -- -- -- -- -- -- -- -- -- -- -- -- -- -- -- -- -- -- -- -- -- -- -- --\n",
      " D  -- -- -- -- -- -- -- -- -- -- -- -- -- -- -- -- -- -- -- -- -- -- -- -- -- -- -- -- -- -- -- -- -- -- -- -- -- -- -- -- -- -- -- -- -- -- -- -- -- -- -- -- -- -- -- -- -- -- -- -- -- -- -- -- -- -- -- -- -- -- -- -- -- -- -- -- -- -- -- -- -- -- -- -- -- -- -- -- -- -- --  4 -- -- -- -- -- -- -- -- -- -- -- -- -- -- -- -- -- -- -- -- -- -- -- -- -- -- -- -- -- -- -- -- -- -- -- -- -- -- -- -- -- -- -- -- -- -- -- -- -- -- -- -- -- -- -- -- -- -- -- -- -- -- -- -- -- -- -- -- -- -- -- -- -- -- -- -- -- -- -- -- -- -- -- -- -- -- -- -- -- -- -- -- -- -- -- -- -- -- -- -- -- -- -- -- -- -- -- -- --  4 -- -- --  2 --  2 -- -- -- -- -- -- -- -- -- -- -- -- --  2 --  2 -- -- -- -- -- -- -- -- -- -- -- -- -- -- -- -- -- -- -- -- -- -- -- -- -- -- -- -- -- -- -- --\n",
      " E  -- -- -- -- -- -- -- -- -- -- -- -- -- -- -- -- -- -- -- -- -- -- -- -- -- -- -- -- -- -- -- -- -- -- -- -- -- -- -- -- -- -- -- -- -- -- -- -- -- -- -- -- -- -- -- -- -- -- -- -- -- -- -- -- -- -- -- -- -- -- -- -- -- -- -- -- -- -- -- -- -- -- -- -- -- -- -- -- -- -- -- -- -- -- -- -- -- -- -- -- -- -- -- -- -- --  2 --  2 -- -- -- -- -- -- -- -- -- -- -- -- --  2 --  2 -- -- -- -- -- -- -- -- -- -- -- -- -- -- -- -- -- -- -- -- -- -- -- -- -- -- -- -- -- -- -- -- -- -- -- -- -- -- -- -- -- -- -- -- -- -- -- -- -- -- -- -- -- -- -- -- -- -- -- -- -- -- -- -- -- -- -- -- -- -- -- -- -- -- -- -- -- -- -- -- -- -- -- -- -- -- -- -- -- -- -- -- -- -- -- -- -- -- -- -- -- -- -- -- -- -- -- -- --  2 -- -- --  2 -- -- -- -- -- -- -- -- -- -- --  2 -- -- --  2 --\n",
      " F  -- -- -- -- -- -- -- -- -- -- -- -- -- -- -- -- -- -- -- -- -- -- -- -- -- -- -- -- -- -- -- -- -- -- -- -- -- -- -- -- -- -- -- -- -- -- -- -- -- -- -- -- -- -- -- -- -- -- -- -- -- -- -- -- -- -- -- -- -- -- -- -- -- -- -- -- -- -- -- -- -- -- -- -- -- -- -- -- -- -- -- -- -- -- -- -- -- -- -- -- -- -- -- -- -- -- --  2 -- -- --  2 -- -- -- -- -- -- -- -- --  2 -- -- --  2 -- -- -- -- -- -- -- -- -- -- -- -- -- -- -- -- -- -- -- -- -- -- -- -- -- -- -- -- -- -- -- -- -- -- -- -- -- -- -- -- -- -- -- -- -- -- -- -- -- -- -- -- -- -- -- -- -- -- -- -- -- -- -- -- -- -- -- -- -- -- -- -- -- -- -- -- -- -- -- -- -- -- -- -- -- -- -- -- -- -- -- -- -- -- -- -- -- -- -- -- -- -- -- -- -- -- -- -- --  2 --  2 -- -- -- -- -- -- -- -- -- -- --  2 -- -- -- -- --  2\n"
     ]
    },
    {
     "data": {
      "image/png": "[encoded data removed]",
      "text/plain": [
       "Graphics object consisting of 1 graphics primitive"
      ]
     },
     "execution_count": 6,
     "metadata": {},
     "output_type": "execute_result"
    }
   ],
   "source": [
    "DDT_SSb = SSb.difference_distribution_table()\n",
    "PrintTable(DDT_SSb, 256)\n",
    "matrix_plot(DDT_SSb, aspect_ratio='automatic')"
   ]
  },
  {
   "cell_type": "code",
   "execution_count": 7,
   "metadata": {
    "ExecuteTime": {
     "end_time": "2020-03-04T02:28:35.897142Z",
     "start_time": "2020-03-04T02:28:35.149786Z"
    },
    "deletable": false,
    "editable": false
   },
   "outputs": [
    {
     "name": "stdout",
     "output_type": "stream",
     "text": [
      "{ {0x00, 16}, },\n",
      "{ {0x11, 4}, {0x13, 4}, {0x91, 4}, {0x93, 4}, },\n",
      "{ {0x22, 4}, {0x24, 2}, {0x26, 2}, {0xA2, 4}, {0xA4, 2}, {0xA6, 2}, },\n",
      "{ {0x31, 2}, {0x33, 2}, {0x37, 4}, {0xB1, 2}, {0xB3, 2}, {0xB5, 4}, },\n",
      "{ {0x44, 4}, {0x46, 4}, {0x54, 2}, {0x56, 2}, {0xD4, 2}, {0xD6, 2}, },\n",
      "{ {0x45, 4}, {0x47, 4}, {0x55, 2}, {0x57, 2}, {0xD5, 2}, {0xD7, 2}, },\n",
      "{ {0x66, 4}, {0x72, 4}, {0xE4, 4}, {0xF2, 4}, },\n",
      "{ {0x61, 2}, {0x63, 2}, {0x75, 2}, {0x77, 2}, {0xE1, 2}, {0xE3, 2}, {0xF5, 2}, {0xF7, 2}, },\n",
      "{ {0x1C, 2}, {0x1E, 2}, {0x88, 4}, {0x8C, 2}, {0x8E, 2}, {0x98, 4}, },\n",
      "{ {0x1D, 2}, {0x1F, 2}, {0x8B, 4}, {0x8D, 2}, {0x8F, 2}, {0x99, 4}, },\n",
      "{ {0x2A, 2}, {0x2C, 2}, {0x3A, 2}, {0x3E, 2}, {0xAA, 2}, {0xAE, 2}, {0xBA, 2}, {0xBC, 2}, },\n",
      "{ {0x29, 2}, {0x2D, 2}, {0x3B, 2}, {0x3D, 2}, {0xA9, 2}, {0xAF, 2}, {0xBB, 2}, {0xBF, 2}, },\n",
      "{ {0x58, 4}, {0xC8, 4}, {0xCC, 2}, {0xCE, 2}, {0xDC, 2}, {0xDE, 2}, },\n",
      "{ {0x5B, 4}, {0xC9, 4}, {0xCD, 2}, {0xCF, 2}, {0xDD, 2}, {0xDF, 2}, },\n",
      "{ {0x6A, 2}, {0x6C, 2}, {0x7A, 2}, {0x7C, 2}, {0xEA, 2}, {0xEE, 2}, {0xFA, 2}, {0xFE, 2}, },\n",
      "{ {0x6B, 2}, {0x6F, 2}, {0x79, 2}, {0x7D, 2}, {0xEB, 2}, {0xED, 2}, {0xF9, 2}, {0xFF, 2}, },\n"
     ]
    }
   ],
   "source": [
    "# extract nonzero entry\n",
    "for i in range(16):\n",
    "    print \"{\",\n",
    "    for j in range(256):\n",
    "        if DDT_SSb[i][j]:\n",
    "            print \"{{0x{:02X}, {}}},\".format(j, DDT_SSb[i][j]),\n",
    "    print \"},\""
   ]
  },
  {
   "cell_type": "code",
   "execution_count": 8,
   "metadata": {
    "ExecuteTime": {
     "end_time": "2020-03-04T02:28:35.921339Z",
     "start_time": "2020-03-04T02:28:35.904547Z"
    },
    "deletable": false,
    "editable": false
   },
   "outputs": [
    {
     "name": "stdout",
     "output_type": "stream",
     "text": [
      "DDT = [\n",
      "\t(16, 0, 0, 0, 0, 0, 0, 0, 0, 0, 0, 0, 0, 0, 0, 0, 0, 0, 0, 0, 0, 0, 0, 0, 0, 0, 0, 0, 0, 0, 0, 0, 0, 0, 0, 0, 0, 0, 0, 0, 0, 0, 0, 0, 0, 0, 0, 0, 0, 0, 0, 0, 0, 0, 0, 0, 0, 0, 0, 0, 0, 0, 0, 0, 0, 0, 0, 0, 0, 0, 0, 0, 0, 0, 0, 0, 0, 0, 0, 0, 0, 0, 0, 0, 0, 0, 0, 0, 0, 0, 0, 0, 0, 0, 0, 0, 0, 0, 0, 0, 0, 0, 0, 0, 0, 0, 0, 0, 0, 0, 0, 0, 0, 0, 0, 0, 0, 0, 0, 0, 0, 0, 0, 0, 0, 0, 0, 0, 0, 0, 0, 0, 0, 0, 0, 0, 0, 0, 0, 0, 0, 0, 0, 0, 0, 0, 0, 0, 0, 0, 0, 0, 0, 0, 0, 0, 0, 0, 0, 0, 0, 0, 0, 0, 0, 0, 0, 0, 0, 0, 0, 0, 0, 0, 0, 0, 0, 0, 0, 0, 0, 0, 0, 0, 0, 0, 0, 0, 0, 0, 0, 0, 0, 0, 0, 0, 0, 0, 0, 0, 0, 0, 0, 0, 0, 0, 0, 0, 0, 0, 0, 0, 0, 0, 0, 0, 0, 0, 0, 0, 0, 0, 0, 0, 0, 0, 0, 0, 0, 0, 0, 0, 0, 0, 0, 0, 0, 0, 0, 0, 0, 0, 0, 0, 0, 0, 0, 0, 0, 0, 0, 0, 0, 0, 0, 0)\n",
      "\t(0, 0, 0, 0, 0, 0, 0, 0, 0, 0, 0, 0, 0, 0, 0, 0, 0, 4, 0, 4, 0, 0, 0, 0, 0, 0, 0, 0, 0, 0, 0, 0, 0, 0, 0, 0, 0, 0, 0, 0, 0, 0, 0, 0, 0, 0, 0, 0, 0, 0, 0, 0, 0, 0, 0, 0, 0, 0, 0, 0, 0, 0, 0, 0, 0, 0, 0, 0, 0, 0, 0, 0, 0, 0, 0, 0, 0, 0, 0, 0, 0, 0, 0, 0, 0, 0, 0, 0, 0, 0, 0, 0, 0, 0, 0, 0, 0, 0, 0, 0, 0, 0, 0, 0, 0, 0, 0, 0, 0, 0, 0, 0, 0, 0, 0, 0, 0, 0, 0, 0, 0, 0, 0, 0, 0, 0, 0, 0, 0, 0, 0, 0, 0, 0, 0, 0, 0, 0, 0, 0, 0, 0, 0, 0, 0, 4, 0, 4, 0, 0, 0, 0, 0, 0, 0, 0, 0, 0, 0, 0, 0, 0, 0, 0, 0, 0, 0, 0, 0, 0, 0, 0, 0, 0, 0, 0, 0, 0, 0, 0, 0, 0, 0, 0, 0, 0, 0, 0, 0, 0, 0, 0, 0, 0, 0, 0, 0, 0, 0, 0, 0, 0, 0, 0, 0, 0, 0, 0, 0, 0, 0, 0, 0, 0, 0, 0, 0, 0, 0, 0, 0, 0, 0, 0, 0, 0, 0, 0, 0, 0, 0, 0, 0, 0, 0, 0, 0, 0, 0, 0, 0, 0, 0, 0, 0, 0, 0, 0, 0, 0, 0, 0, 0, 0, 0, 0)\n",
      "\t(0, 0, 0, 0, 0, 0, 0, 0, 0, 0, 0, 0, 0, 0, 0, 0, 0, 0, 0, 0, 0, 0, 0, 0, 0, 0, 0, 0, 0, 0, 0, 0, 0, 0, 4, 0, 2, 0, 2, 0, 0, 0, 0, 0, 0, 0, 0, 0, 0, 0, 0, 0, 0, 0, 0, 0, 0, 0, 0, 0, 0, 0, 0, 0, 0, 0, 0, 0, 0, 0, 0, 0, 0, 0, 0, 0, 0, 0, 0, 0, 0, 0, 0, 0, 0, 0, 0, 0, 0, 0, 0, 0, 0, 0, 0, 0, 0, 0, 0, 0, 0, 0, 0, 0, 0, 0, 0, 0, 0, 0, 0, 0, 0, 0, 0, 0, 0, 0, 0, 0, 0, 0, 0, 0, 0, 0, 0, 0, 0, 0, 0, 0, 0, 0, 0, 0, 0, 0, 0, 0, 0, 0, 0, 0, 0, 0, 0, 0, 0, 0, 0, 0, 0, 0, 0, 0, 0, 0, 0, 0, 0, 0, 4, 0, 2, 0, 2, 0, 0, 0, 0, 0, 0, 0, 0, 0, 0, 0, 0, 0, 0, 0, 0, 0, 0, 0, 0, 0, 0, 0, 0, 0, 0, 0, 0, 0, 0, 0, 0, 0, 0, 0, 0, 0, 0, 0, 0, 0, 0, 0, 0, 0, 0, 0, 0, 0, 0, 0, 0, 0, 0, 0, 0, 0, 0, 0, 0, 0, 0, 0, 0, 0, 0, 0, 0, 0, 0, 0, 0, 0, 0, 0, 0, 0, 0, 0, 0, 0, 0, 0, 0, 0, 0, 0, 0, 0)\n",
      "\t(0, 0, 0, 0, 0, 0, 0, 0, 0, 0, 0, 0, 0, 0, 0, 0, 0, 0, 0, 0, 0, 0, 0, 0, 0, 0, 0, 0, 0, 0, 0, 0, 0, 0, 0, 0, 0, 0, 0, 0, 0, 0, 0, 0, 0, 0, 0, 0, 0, 2, 0, 2, 0, 0, 0, 4, 0, 0, 0, 0, 0, 0, 0, 0, 0, 0, 0, 0, 0, 0, 0, 0, 0, 0, 0, 0, 0, 0, 0, 0, 0, 0, 0, 0, 0, 0, 0, 0, 0, 0, 0, 0, 0, 0, 0, 0, 0, 0, 0, 0, 0, 0, 0, 0, 0, 0, 0, 0, 0, 0, 0, 0, 0, 0, 0, 0, 0, 0, 0, 0, 0, 0, 0, 0, 0, 0, 0, 0, 0, 0, 0, 0, 0, 0, 0, 0, 0, 0, 0, 0, 0, 0, 0, 0, 0, 0, 0, 0, 0, 0, 0, 0, 0, 0, 0, 0, 0, 0, 0, 0, 0, 0, 0, 0, 0, 0, 0, 0, 0, 0, 0, 0, 0, 0, 0, 0, 0, 2, 0, 2, 0, 4, 0, 0, 0, 0, 0, 0, 0, 0, 0, 0, 0, 0, 0, 0, 0, 0, 0, 0, 0, 0, 0, 0, 0, 0, 0, 0, 0, 0, 0, 0, 0, 0, 0, 0, 0, 0, 0, 0, 0, 0, 0, 0, 0, 0, 0, 0, 0, 0, 0, 0, 0, 0, 0, 0, 0, 0, 0, 0, 0, 0, 0, 0, 0, 0, 0, 0, 0, 0, 0, 0, 0, 0, 0, 0)\n",
      "\t(0, 0, 0, 0, 0, 0, 0, 0, 0, 0, 0, 0, 0, 0, 0, 0, 0, 0, 0, 0, 0, 0, 0, 0, 0, 0, 0, 0, 0, 0, 0, 0, 0, 0, 0, 0, 0, 0, 0, 0, 0, 0, 0, 0, 0, 0, 0, 0, 0, 0, 0, 0, 0, 0, 0, 0, 0, 0, 0, 0, 0, 0, 0, 0, 0, 0, 0, 0, 4, 0, 4, 0, 0, 0, 0, 0, 0, 0, 0, 0, 0, 0, 0, 0, 2, 0, 2, 0, 0, 0, 0, 0, 0, 0, 0, 0, 0, 0, 0, 0, 0, 0, 0, 0, 0, 0, 0, 0, 0, 0, 0, 0, 0, 0, 0, 0, 0, 0, 0, 0, 0, 0, 0, 0, 0, 0, 0, 0, 0, 0, 0, 0, 0, 0, 0, 0, 0, 0, 0, 0, 0, 0, 0, 0, 0, 0, 0, 0, 0, 0, 0, 0, 0, 0, 0, 0, 0, 0, 0, 0, 0, 0, 0, 0, 0, 0, 0, 0, 0, 0, 0, 0, 0, 0, 0, 0, 0, 0, 0, 0, 0, 0, 0, 0, 0, 0, 0, 0, 0, 0, 0, 0, 0, 0, 0, 0, 0, 0, 0, 0, 0, 0, 0, 0, 0, 0, 0, 0, 0, 0, 0, 0, 2, 0, 2, 0, 0, 0, 0, 0, 0, 0, 0, 0, 0, 0, 0, 0, 0, 0, 0, 0, 0, 0, 0, 0, 0, 0, 0, 0, 0, 0, 0, 0, 0, 0, 0, 0, 0, 0, 0, 0, 0, 0, 0, 0)\n",
      "\t(0, 0, 0, 0, 0, 0, 0, 0, 0, 0, 0, 0, 0, 0, 0, 0, 0, 0, 0, 0, 0, 0, 0, 0, 0, 0, 0, 0, 0, 0, 0, 0, 0, 0, 0, 0, 0, 0, 0, 0, 0, 0, 0, 0, 0, 0, 0, 0, 0, 0, 0, 0, 0, 0, 0, 0, 0, 0, 0, 0, 0, 0, 0, 0, 0, 0, 0, 0, 0, 4, 0, 4, 0, 0, 0, 0, 0, 0, 0, 0, 0, 0, 0, 0, 0, 2, 0, 2, 0, 0, 0, 0, 0, 0, 0, 0, 0, 0, 0, 0, 0, 0, 0, 0, 0, 0, 0, 0, 0, 0, 0, 0, 0, 0, 0, 0, 0, 0, 0, 0, 0, 0, 0, 0, 0, 0, 0, 0, 0, 0, 0, 0, 0, 0, 0, 0, 0, 0, 0, 0, 0, 0, 0, 0, 0, 0, 0, 0, 0, 0, 0, 0, 0, 0, 0, 0, 0, 0, 0, 0, 0, 0, 0, 0, 0, 0, 0, 0, 0, 0, 0, 0, 0, 0, 0, 0, 0, 0, 0, 0, 0, 0, 0, 0, 0, 0, 0, 0, 0, 0, 0, 0, 0, 0, 0, 0, 0, 0, 0, 0, 0, 0, 0, 0, 0, 0, 0, 0, 0, 0, 0, 0, 0, 2, 0, 2, 0, 0, 0, 0, 0, 0, 0, 0, 0, 0, 0, 0, 0, 0, 0, 0, 0, 0, 0, 0, 0, 0, 0, 0, 0, 0, 0, 0, 0, 0, 0, 0, 0, 0, 0, 0, 0, 0, 0, 0)\n",
      "\t(0, 0, 0, 0, 0, 0, 0, 0, 0, 0, 0, 0, 0, 0, 0, 0, 0, 0, 0, 0, 0, 0, 0, 0, 0, 0, 0, 0, 0, 0, 0, 0, 0, 0, 0, 0, 0, 0, 0, 0, 0, 0, 0, 0, 0, 0, 0, 0, 0, 0, 0, 0, 0, 0, 0, 0, 0, 0, 0, 0, 0, 0, 0, 0, 0, 0, 0, 0, 0, 0, 0, 0, 0, 0, 0, 0, 0, 0, 0, 0, 0, 0, 0, 0, 0, 0, 0, 0, 0, 0, 0, 0, 0, 0, 0, 0, 0, 0, 0, 0, 0, 0, 4, 0, 0, 0, 0, 0, 0, 0, 0, 0, 0, 0, 4, 0, 0, 0, 0, 0, 0, 0, 0, 0, 0, 0, 0, 0, 0, 0, 0, 0, 0, 0, 0, 0, 0, 0, 0, 0, 0, 0, 0, 0, 0, 0, 0, 0, 0, 0, 0, 0, 0, 0, 0, 0, 0, 0, 0, 0, 0, 0, 0, 0, 0, 0, 0, 0, 0, 0, 0, 0, 0, 0, 0, 0, 0, 0, 0, 0, 0, 0, 0, 0, 0, 0, 0, 0, 0, 0, 0, 0, 0, 0, 0, 0, 0, 0, 0, 0, 0, 0, 0, 0, 0, 0, 0, 0, 0, 0, 0, 0, 0, 0, 0, 0, 0, 0, 0, 0, 0, 0, 0, 0, 0, 0, 0, 0, 4, 0, 0, 0, 0, 0, 0, 0, 0, 0, 0, 0, 0, 0, 4, 0, 0, 0, 0, 0, 0, 0, 0, 0, 0, 0, 0, 0)\n",
      "\t(0, 0, 0, 0, 0, 0, 0, 0, 0, 0, 0, 0, 0, 0, 0, 0, 0, 0, 0, 0, 0, 0, 0, 0, 0, 0, 0, 0, 0, 0, 0, 0, 0, 0, 0, 0, 0, 0, 0, 0, 0, 0, 0, 0, 0, 0, 0, 0, 0, 0, 0, 0, 0, 0, 0, 0, 0, 0, 0, 0, 0, 0, 0, 0, 0, 0, 0, 0, 0, 0, 0, 0, 0, 0, 0, 0, 0, 0, 0, 0, 0, 0, 0, 0, 0, 0, 0, 0, 0, 0, 0, 0, 0, 0, 0, 0, 0, 2, 0, 2, 0, 0, 0, 0, 0, 0, 0, 0, 0, 0, 0, 0, 0, 0, 0, 0, 0, 2, 0, 2, 0, 0, 0, 0, 0, 0, 0, 0, 0, 0, 0, 0, 0, 0, 0, 0, 0, 0, 0, 0, 0, 0, 0, 0, 0, 0, 0, 0, 0, 0, 0, 0, 0, 0, 0, 0, 0, 0, 0, 0, 0, 0, 0, 0, 0, 0, 0, 0, 0, 0, 0, 0, 0, 0, 0, 0, 0, 0, 0, 0, 0, 0, 0, 0, 0, 0, 0, 0, 0, 0, 0, 0, 0, 0, 0, 0, 0, 0, 0, 0, 0, 0, 0, 0, 0, 0, 0, 0, 0, 0, 0, 0, 0, 0, 0, 0, 0, 0, 0, 0, 0, 0, 0, 0, 0, 2, 0, 2, 0, 0, 0, 0, 0, 0, 0, 0, 0, 0, 0, 0, 0, 0, 0, 0, 0, 2, 0, 2, 0, 0, 0, 0, 0, 0, 0, 0)\n",
      "\t(0, 0, 0, 0, 0, 0, 0, 0, 0, 0, 0, 0, 0, 0, 0, 0, 0, 0, 0, 0, 0, 0, 0, 0, 0, 0, 0, 0, 2, 0, 2, 0, 0, 0, 0, 0, 0, 0, 0, 0, 0, 0, 0, 0, 0, 0, 0, 0, 0, 0, 0, 0, 0, 0, 0, 0, 0, 0, 0, 0, 0, 0, 0, 0, 0, 0, 0, 0, 0, 0, 0, 0, 0, 0, 0, 0, 0, 0, 0, 0, 0, 0, 0, 0, 0, 0, 0, 0, 0, 0, 0, 0, 0, 0, 0, 0, 0, 0, 0, 0, 0, 0, 0, 0, 0, 0, 0, 0, 0, 0, 0, 0, 0, 0, 0, 0, 0, 0, 0, 0, 0, 0, 0, 0, 0, 0, 0, 0, 0, 0, 0, 0, 0, 0, 0, 0, 4, 0, 0, 0, 2, 0, 2, 0, 0, 0, 0, 0, 0, 0, 0, 0, 4, 0, 0, 0, 0, 0, 0, 0, 0, 0, 0, 0, 0, 0, 0, 0, 0, 0, 0, 0, 0, 0, 0, 0, 0, 0, 0, 0, 0, 0, 0, 0, 0, 0, 0, 0, 0, 0, 0, 0, 0, 0, 0, 0, 0, 0, 0, 0, 0, 0, 0, 0, 0, 0, 0, 0, 0, 0, 0, 0, 0, 0, 0, 0, 0, 0, 0, 0, 0, 0, 0, 0, 0, 0, 0, 0, 0, 0, 0, 0, 0, 0, 0, 0, 0, 0, 0, 0, 0, 0, 0, 0, 0, 0, 0, 0, 0, 0, 0, 0, 0, 0, 0, 0)\n",
      "\t(0, 0, 0, 0, 0, 0, 0, 0, 0, 0, 0, 0, 0, 0, 0, 0, 0, 0, 0, 0, 0, 0, 0, 0, 0, 0, 0, 0, 0, 2, 0, 2, 0, 0, 0, 0, 0, 0, 0, 0, 0, 0, 0, 0, 0, 0, 0, 0, 0, 0, 0, 0, 0, 0, 0, 0, 0, 0, 0, 0, 0, 0, 0, 0, 0, 0, 0, 0, 0, 0, 0, 0, 0, 0, 0, 0, 0, 0, 0, 0, 0, 0, 0, 0, 0, 0, 0, 0, 0, 0, 0, 0, 0, 0, 0, 0, 0, 0, 0, 0, 0, 0, 0, 0, 0, 0, 0, 0, 0, 0, 0, 0, 0, 0, 0, 0, 0, 0, 0, 0, 0, 0, 0, 0, 0, 0, 0, 0, 0, 0, 0, 0, 0, 0, 0, 0, 0, 0, 0, 4, 0, 2, 0, 2, 0, 0, 0, 0, 0, 0, 0, 0, 0, 4, 0, 0, 0, 0, 0, 0, 0, 0, 0, 0, 0, 0, 0, 0, 0, 0, 0, 0, 0, 0, 0, 0, 0, 0, 0, 0, 0, 0, 0, 0, 0, 0, 0, 0, 0, 0, 0, 0, 0, 0, 0, 0, 0, 0, 0, 0, 0, 0, 0, 0, 0, 0, 0, 0, 0, 0, 0, 0, 0, 0, 0, 0, 0, 0, 0, 0, 0, 0, 0, 0, 0, 0, 0, 0, 0, 0, 0, 0, 0, 0, 0, 0, 0, 0, 0, 0, 0, 0, 0, 0, 0, 0, 0, 0, 0, 0, 0, 0, 0, 0, 0, 0)\n",
      "\t(0, 0, 0, 0, 0, 0, 0, 0, 0, 0, 0, 0, 0, 0, 0, 0, 0, 0, 0, 0, 0, 0, 0, 0, 0, 0, 0, 0, 0, 0, 0, 0, 0, 0, 0, 0, 0, 0, 0, 0, 0, 0, 2, 0, 2, 0, 0, 0, 0, 0, 0, 0, 0, 0, 0, 0, 0, 0, 2, 0, 0, 0, 2, 0, 0, 0, 0, 0, 0, 0, 0, 0, 0, 0, 0, 0, 0, 0, 0, 0, 0, 0, 0, 0, 0, 0, 0, 0, 0, 0, 0, 0, 0, 0, 0, 0, 0, 0, 0, 0, 0, 0, 0, 0, 0, 0, 0, 0, 0, 0, 0, 0, 0, 0, 0, 0, 0, 0, 0, 0, 0, 0, 0, 0, 0, 0, 0, 0, 0, 0, 0, 0, 0, 0, 0, 0, 0, 0, 0, 0, 0, 0, 0, 0, 0, 0, 0, 0, 0, 0, 0, 0, 0, 0, 0, 0, 0, 0, 0, 0, 0, 0, 0, 0, 0, 0, 0, 0, 0, 0, 2, 0, 0, 0, 2, 0, 0, 0, 0, 0, 0, 0, 0, 0, 0, 0, 2, 0, 2, 0, 0, 0, 0, 0, 0, 0, 0, 0, 0, 0, 0, 0, 0, 0, 0, 0, 0, 0, 0, 0, 0, 0, 0, 0, 0, 0, 0, 0, 0, 0, 0, 0, 0, 0, 0, 0, 0, 0, 0, 0, 0, 0, 0, 0, 0, 0, 0, 0, 0, 0, 0, 0, 0, 0, 0, 0, 0, 0, 0, 0, 0, 0, 0, 0, 0, 0)\n",
      "\t(0, 0, 0, 0, 0, 0, 0, 0, 0, 0, 0, 0, 0, 0, 0, 0, 0, 0, 0, 0, 0, 0, 0, 0, 0, 0, 0, 0, 0, 0, 0, 0, 0, 0, 0, 0, 0, 0, 0, 0, 0, 2, 0, 0, 0, 2, 0, 0, 0, 0, 0, 0, 0, 0, 0, 0, 0, 0, 0, 2, 0, 2, 0, 0, 0, 0, 0, 0, 0, 0, 0, 0, 0, 0, 0, 0, 0, 0, 0, 0, 0, 0, 0, 0, 0, 0, 0, 0, 0, 0, 0, 0, 0, 0, 0, 0, 0, 0, 0, 0, 0, 0, 0, 0, 0, 0, 0, 0, 0, 0, 0, 0, 0, 0, 0, 0, 0, 0, 0, 0, 0, 0, 0, 0, 0, 0, 0, 0, 0, 0, 0, 0, 0, 0, 0, 0, 0, 0, 0, 0, 0, 0, 0, 0, 0, 0, 0, 0, 0, 0, 0, 0, 0, 0, 0, 0, 0, 0, 0, 0, 0, 0, 0, 0, 0, 0, 0, 0, 0, 2, 0, 0, 0, 0, 0, 2, 0, 0, 0, 0, 0, 0, 0, 0, 0, 0, 0, 2, 0, 0, 0, 2, 0, 0, 0, 0, 0, 0, 0, 0, 0, 0, 0, 0, 0, 0, 0, 0, 0, 0, 0, 0, 0, 0, 0, 0, 0, 0, 0, 0, 0, 0, 0, 0, 0, 0, 0, 0, 0, 0, 0, 0, 0, 0, 0, 0, 0, 0, 0, 0, 0, 0, 0, 0, 0, 0, 0, 0, 0, 0, 0, 0, 0, 0, 0, 0)\n",
      "\t(0, 0, 0, 0, 0, 0, 0, 0, 0, 0, 0, 0, 0, 0, 0, 0, 0, 0, 0, 0, 0, 0, 0, 0, 0, 0, 0, 0, 0, 0, 0, 0, 0, 0, 0, 0, 0, 0, 0, 0, 0, 0, 0, 0, 0, 0, 0, 0, 0, 0, 0, 0, 0, 0, 0, 0, 0, 0, 0, 0, 0, 0, 0, 0, 0, 0, 0, 0, 0, 0, 0, 0, 0, 0, 0, 0, 0, 0, 0, 0, 0, 0, 0, 0, 0, 0, 0, 0, 4, 0, 0, 0, 0, 0, 0, 0, 0, 0, 0, 0, 0, 0, 0, 0, 0, 0, 0, 0, 0, 0, 0, 0, 0, 0, 0, 0, 0, 0, 0, 0, 0, 0, 0, 0, 0, 0, 0, 0, 0, 0, 0, 0, 0, 0, 0, 0, 0, 0, 0, 0, 0, 0, 0, 0, 0, 0, 0, 0, 0, 0, 0, 0, 0, 0, 0, 0, 0, 0, 0, 0, 0, 0, 0, 0, 0, 0, 0, 0, 0, 0, 0, 0, 0, 0, 0, 0, 0, 0, 0, 0, 0, 0, 0, 0, 0, 0, 0, 0, 0, 0, 0, 0, 0, 0, 0, 0, 0, 0, 0, 0, 4, 0, 0, 0, 2, 0, 2, 0, 0, 0, 0, 0, 0, 0, 0, 0, 0, 0, 0, 0, 2, 0, 2, 0, 0, 0, 0, 0, 0, 0, 0, 0, 0, 0, 0, 0, 0, 0, 0, 0, 0, 0, 0, 0, 0, 0, 0, 0, 0, 0, 0, 0, 0, 0, 0, 0)\n",
      "\t(0, 0, 0, 0, 0, 0, 0, 0, 0, 0, 0, 0, 0, 0, 0, 0, 0, 0, 0, 0, 0, 0, 0, 0, 0, 0, 0, 0, 0, 0, 0, 0, 0, 0, 0, 0, 0, 0, 0, 0, 0, 0, 0, 0, 0, 0, 0, 0, 0, 0, 0, 0, 0, 0, 0, 0, 0, 0, 0, 0, 0, 0, 0, 0, 0, 0, 0, 0, 0, 0, 0, 0, 0, 0, 0, 0, 0, 0, 0, 0, 0, 0, 0, 0, 0, 0, 0, 0, 0, 0, 0, 4, 0, 0, 0, 0, 0, 0, 0, 0, 0, 0, 0, 0, 0, 0, 0, 0, 0, 0, 0, 0, 0, 0, 0, 0, 0, 0, 0, 0, 0, 0, 0, 0, 0, 0, 0, 0, 0, 0, 0, 0, 0, 0, 0, 0, 0, 0, 0, 0, 0, 0, 0, 0, 0, 0, 0, 0, 0, 0, 0, 0, 0, 0, 0, 0, 0, 0, 0, 0, 0, 0, 0, 0, 0, 0, 0, 0, 0, 0, 0, 0, 0, 0, 0, 0, 0, 0, 0, 0, 0, 0, 0, 0, 0, 0, 0, 0, 0, 0, 0, 0, 0, 0, 0, 0, 0, 0, 0, 0, 0, 4, 0, 0, 0, 2, 0, 2, 0, 0, 0, 0, 0, 0, 0, 0, 0, 0, 0, 0, 0, 2, 0, 2, 0, 0, 0, 0, 0, 0, 0, 0, 0, 0, 0, 0, 0, 0, 0, 0, 0, 0, 0, 0, 0, 0, 0, 0, 0, 0, 0, 0, 0, 0, 0, 0)\n",
      "\t(0, 0, 0, 0, 0, 0, 0, 0, 0, 0, 0, 0, 0, 0, 0, 0, 0, 0, 0, 0, 0, 0, 0, 0, 0, 0, 0, 0, 0, 0, 0, 0, 0, 0, 0, 0, 0, 0, 0, 0, 0, 0, 0, 0, 0, 0, 0, 0, 0, 0, 0, 0, 0, 0, 0, 0, 0, 0, 0, 0, 0, 0, 0, 0, 0, 0, 0, 0, 0, 0, 0, 0, 0, 0, 0, 0, 0, 0, 0, 0, 0, 0, 0, 0, 0, 0, 0, 0, 0, 0, 0, 0, 0, 0, 0, 0, 0, 0, 0, 0, 0, 0, 0, 0, 0, 0, 2, 0, 2, 0, 0, 0, 0, 0, 0, 0, 0, 0, 0, 0, 0, 0, 2, 0, 2, 0, 0, 0, 0, 0, 0, 0, 0, 0, 0, 0, 0, 0, 0, 0, 0, 0, 0, 0, 0, 0, 0, 0, 0, 0, 0, 0, 0, 0, 0, 0, 0, 0, 0, 0, 0, 0, 0, 0, 0, 0, 0, 0, 0, 0, 0, 0, 0, 0, 0, 0, 0, 0, 0, 0, 0, 0, 0, 0, 0, 0, 0, 0, 0, 0, 0, 0, 0, 0, 0, 0, 0, 0, 0, 0, 0, 0, 0, 0, 0, 0, 0, 0, 0, 0, 0, 0, 0, 0, 0, 0, 0, 0, 0, 0, 0, 0, 0, 0, 0, 0, 0, 0, 0, 0, 0, 0, 0, 0, 2, 0, 0, 0, 2, 0, 0, 0, 0, 0, 0, 0, 0, 0, 0, 0, 2, 0, 0, 0, 2, 0)\n",
      "\t(0, 0, 0, 0, 0, 0, 0, 0, 0, 0, 0, 0, 0, 0, 0, 0, 0, 0, 0, 0, 0, 0, 0, 0, 0, 0, 0, 0, 0, 0, 0, 0, 0, 0, 0, 0, 0, 0, 0, 0, 0, 0, 0, 0, 0, 0, 0, 0, 0, 0, 0, 0, 0, 0, 0, 0, 0, 0, 0, 0, 0, 0, 0, 0, 0, 0, 0, 0, 0, 0, 0, 0, 0, 0, 0, 0, 0, 0, 0, 0, 0, 0, 0, 0, 0, 0, 0, 0, 0, 0, 0, 0, 0, 0, 0, 0, 0, 0, 0, 0, 0, 0, 0, 0, 0, 0, 0, 2, 0, 0, 0, 2, 0, 0, 0, 0, 0, 0, 0, 0, 0, 2, 0, 0, 0, 2, 0, 0, 0, 0, 0, 0, 0, 0, 0, 0, 0, 0, 0, 0, 0, 0, 0, 0, 0, 0, 0, 0, 0, 0, 0, 0, 0, 0, 0, 0, 0, 0, 0, 0, 0, 0, 0, 0, 0, 0, 0, 0, 0, 0, 0, 0, 0, 0, 0, 0, 0, 0, 0, 0, 0, 0, 0, 0, 0, 0, 0, 0, 0, 0, 0, 0, 0, 0, 0, 0, 0, 0, 0, 0, 0, 0, 0, 0, 0, 0, 0, 0, 0, 0, 0, 0, 0, 0, 0, 0, 0, 0, 0, 0, 0, 0, 0, 0, 0, 0, 0, 0, 0, 0, 0, 0, 0, 0, 0, 2, 0, 2, 0, 0, 0, 0, 0, 0, 0, 0, 0, 0, 0, 2, 0, 0, 0, 0, 0, 2)\n",
      "]\n"
     ]
    }
   ],
   "source": [
    "print(\"DDT = [\")\n",
    "for i in DDT_SSb:\n",
    "    print(\"\\t\"),\n",
    "    print(i)\n",
    "print(\"]\")"
   ]
  },
  {
   "cell_type": "markdown",
   "metadata": {},
   "source": [
    "# LAT"
   ]
  },
  {
   "cell_type": "markdown",
   "metadata": {},
   "source": [
    "## $N_0$"
   ]
  },
  {
   "cell_type": "code",
   "execution_count": 9,
   "metadata": {
    "ExecuteTime": {
     "end_time": "2020-03-04T02:28:36.334218Z",
     "start_time": "2020-03-04T02:28:35.926646Z"
    },
    "deletable": false,
    "editable": false
   },
   "outputs": [
    {
     "name": "stdout",
     "output_type": "stream",
     "text": [
      "I\\O  0  1  2  3  4  5  6  7  8  9  A  B  C  D  E  F\n",
      " 0   8 -- -- -- -- -- -- -- -- -- -- -- -- -- -- --\n",
      " 1  --  4 -- -- --  4 -- --  2  2 -2  2 -2 -2  2 -2\n",
      " 2  -- --  8 -- -- -- -- -- -- -- -- -- -- -- -- --\n",
      " 3  -- -- --  4 -- -- --  4 -2  2  2  2  2 -2 -2 -2\n",
      " 4  -- -- -- --  8 -- -- -- -- -- -- -- -- -- -- --\n",
      " 5  --  4 -- -- --  4 -- -- -2 -2  2 -2  2  2 -2  2\n",
      " 6  -- -- -- -- -- --  8 -- -- -- -- -- -- -- -- --\n",
      " 7  -- -- --  4 -- -- --  4  2 -2 -2 -2 -2  2  2  2\n",
      " 8  -- -- -- -- -- -- -- --  4  4  4 -4 -- -- -- --\n",
      " 9  --  4 -- -- -- -4 -- --  2  2 -2  2  2  2 -2  2\n",
      " A  -- -- -- -- -- -- -- --  4 -4  4  4 -- -- -- --\n",
      " B  -- -- --  4 -- -- -- -4 -2  2  2  2 -2  2  2  2\n",
      " C  -- -- -- -- -- -- -- -- -- -- -- --  4  4  4 -4\n",
      " D  -- -4 -- -- --  4 -- --  2  2 -2  2  2  2 -2  2\n",
      " E  -- -- -- -- -- -- -- -- -- -- -- --  4 -4  4  4\n",
      " F  -- -- -- -4 -- -- --  4 -2  2  2  2 -2  2  2  2\n"
     ]
    },
    {
     "data": {
      "image/png": "[encoded data removed]",
      "text/plain": [
       "Graphics object consisting of 1 graphics primitive"
      ]
     },
     "execution_count": 9,
     "metadata": {},
     "output_type": "execute_result"
    }
   ],
   "source": [
    "LAT_N_0 = N_0.linear_approximation_table()\n",
    "abs_LAT_N_0 = list(LAT_N_0)\n",
    "\n",
    "for i in range(len(abs_LAT_N_0)):\n",
    "    for j in range(len(abs_LAT_N_0[0])):\n",
    "        abs_LAT_N_0[i][j] = abs(abs_LAT_N_0[i][j])\n",
    "\n",
    "PrintTable(LAT_N_0)\n",
    "matrix_plot(abs_LAT_N_0, cmap='Purples')"
   ]
  },
  {
   "cell_type": "markdown",
   "metadata": {},
   "source": [
    "## $N_1$"
   ]
  },
  {
   "cell_type": "code",
   "execution_count": 10,
   "metadata": {
    "ExecuteTime": {
     "end_time": "2020-03-04T02:28:36.632283Z",
     "start_time": "2020-03-04T02:28:36.340619Z"
    },
    "deletable": false,
    "editable": false
   },
   "outputs": [
    {
     "name": "stdout",
     "output_type": "stream",
     "text": [
      "I\\O  0  1  2  3  4  5  6  7  8  9  A  B  C  D  E  F\n",
      " 0   8 -- -- -- -- -- -- -- -- -- -- -- -- -- -- --\n",
      " 1  --  8 -- -- -- -- -- -- -- -- -- -- -- -- -- --\n",
      " 2  -- --  4  4 -- --  4 -4 -- -- -- -- -- -- -- --\n",
      " 3  -- --  4  4 -- -- -4  4 -- -- -- -- -- -- -- --\n",
      " 4  -- --  2 -2  4 --  2  2 -- -- -2  2  4 -- -2 -2\n",
      " 5  -- -- -2  2 --  4  2  2 -- --  2 -2 --  4 -2 -2\n",
      " 6  -- --  2 -2  4 --  2  2 -- --  2 -2 -4 --  2  2\n",
      " 7  -- -- -2  2 --  4  2  2 -- -- -2  2 -- -4  2  2\n",
      " 8  -- -- -- -- -- -- -- --  8 -- -- -- -- -- -- --\n",
      " 9  -- -- -- -- -- -- -- -- --  8 -- -- -- -- -- --\n",
      " A  -- -- -- -- -- -- -- -- -- --  4  4 -- --  4 -4\n",
      " B  -- -- -- -- -- -- -- -- -- --  4  4 -- -- -4  4\n",
      " C  -- -- -2  2  4 -- -2 -2 -- --  2 -2  4 --  2  2\n",
      " D  -- --  2 -2 --  4 -2 -2 -- -- -2  2 --  4  2  2\n",
      " E  -- --  2 -2 -4 --  2  2 -- --  2 -2  4 --  2  2\n",
      " F  -- -- -2  2 -- -4  2  2 -- -- -2  2 --  4  2  2\n"
     ]
    },
    {
     "data": {
      "image/png": "[encoded data removed]",
      "text/plain": [
       "Graphics object consisting of 1 graphics primitive"
      ]
     },
     "execution_count": 10,
     "metadata": {},
     "output_type": "execute_result"
    }
   ],
   "source": [
    "LAT_N_1 = N_1.linear_approximation_table()\n",
    "abs_LAT_N_1 = list(LAT_N_1)\n",
    "\n",
    "for i in range(len(abs_LAT_N_1)):\n",
    "    for j in range(len(abs_LAT_N_1[0])):\n",
    "        abs_LAT_N_1[i][j] = abs(abs_LAT_N_1[i][j])\n",
    "\n",
    "PrintTable(LAT_N_1)\n",
    "matrix_plot(abs_LAT_N_1, cmap='Purples')"
   ]
  },
  {
   "cell_type": "markdown",
   "metadata": {},
   "source": [
    "## SSb"
   ]
  },
  {
   "cell_type": "code",
   "execution_count": 11,
   "metadata": {
    "ExecuteTime": {
     "end_time": "2020-03-04T02:28:38.365101Z",
     "start_time": "2020-03-04T02:28:36.636498Z"
    },
    "deletable": false,
    "editable": false,
    "scrolled": false
   },
   "outputs": [
    {
     "name": "stdout",
     "output_type": "stream",
     "text": [
      "I\\O  0  1  2  3  4  5  6  7  8  9  A  B  C  D  E  F 10 11 12 13 14 15 16 17 18 19 1A 1B 1C 1D 1E 1F 20 21 22 23 24 25 26 27 28 29 2A 2B 2C 2D 2E 2F 30 31 32 33 34 35 36 37 38 39 3A 3B 3C 3D 3E 3F 40 41 42 43 44 45 46 47 48 49 4A 4B 4C 4D 4E 4F 50 51 52 53 54 55 56 57 58 59 5A 5B 5C 5D 5E 5F 60 61 62 63 64 65 66 67 68 69 6A 6B 6C 6D 6E 6F 70 71 72 73 74 75 76 77 78 79 7A 7B 7C 7D 7E 7F 80 81 82 83 84 85 86 87 88 89 8A 8B 8C 8D 8E 8F 90 91 92 93 94 95 96 97 98 99 9A 9B 9C 9D 9E 9F A0 A1 A2 A3 A4 A5 A6 A7 A8 A9 AA AB AC AD AE AF B0 B1 B2 B3 B4 B5 B6 B7 B8 B9 BA BB BC BD BE BF C0 C1 C2 C3 C4 C5 C6 C7 C8 C9 CA CB CC CD CE CF D0 D1 D2 D3 D4 D5 D6 D7 D8 D9 DA DB DC DD DE DF E0 E1 E2 E3 E4 E5 E6 E7 E8 E9 EA EB EC ED EE EF F0 F1 F2 F3 F4 F5 F6 F7 F8 F9 FA FB FC FD FE FF\n",
      " 0   8 -- -- -- -- -- -- -- -- -- -- -- -- -- -- -- --  4 -2  2 -- --  2  2 --  4  2 -2 -- -- -2 -2 -- --  4  4 -- --  4 -4 -- -- -- -- -- -- -- -- -- --  2  2 --  4 -2  2 -- --  2  2 -- -4 -2  2 -- --  2 -2  4 --  2  2 -- -- -2  2  4 -- -2 -2 --  4 -- -- --  4 -- -- -- -4 -- -- --  4 -- -- -- --  2 -2  4 --  2  2 -- --  2 -2 -4 --  2  2 -- -- --  4 -- -- --  4 -- -- -4 -- -- --  4 -- --  2 -- -2 --  2 -- -2  4  2 --  2 -- -2  4 -2 --  2  2 -- -- -2 -2 --  4  2 -2 -- --  2 -2  4 -- -2 --  2 -- -2 --  2  4 -2  4  2 --  2 -- -2 --  2  2 -- -- -2 -2 -- -4  2  2  4 --  2  2 -- -- -2  2 -- --  2 -2 -- --  2  2 -4  4  2  2 -- -- -2 -4  2  4  2 -- -2 --  2 --  2 --  2 --  2 --  2 -2 -- -- -2  2 -- -- -2  2 --  4 -2  2  4 -- -2 -- -2 -4  2  4  2 --  2 --  2 --  2 --  2\n",
      " 1  --  8 -- -- -- -- -- -- -- -- -- -- -- -- -- --  4 --  2 -2 -- --  2  2  4 -- -2  2 -- -- -2 -2 -- --  4  4 -- -- -4  4 -- -- -- -- -- -- -- -- -- --  2  2  4 --  2 -2 -- --  2  2 -4 --  2 -2 -- -- -2  2 --  4  2  2 -- --  2 -2 --  4 -2 -2  4 -- -- --  4 -- -- -- -4 -- -- --  4 -- -- -- -- -- -2  2 --  4  2  2 -- -- -2  2 -- -4  2  2 -- --  4 -- -- --  4 -- -- -- -- -4 -- -- --  4  2 -- -2 --  2 -- -2 --  2  4  2 -- -2 -- -2  4  2 -- --  2 -2 -- -- -2  2  4 -- -2  2 --  4 -2 -2 --  2 -- -2 --  2 -- -2  4  2  4  2 -- -2 --  2 -- --  2 -2 -- -- -2  2 -4  4  2  2 -- --  2 -2 -- --  2  2 -- -- -2  2 -- -4  2  2  4 --  2 -2 --  2 -4  2  4 -2 --  2 --  2 --  2 --  2 --  2 -- -- -2 -2 -- --  2 -2 -- --  2 -2  4  4  2 -2 -- -2 --  2 -4  2  4  2 --  2 --  2 --  2 --\n",
      " 2  -- --  4  4 -- --  4 -4 -- -- -- -- -- -- -- -- -- --  2  2 --  4 -2  2 -- --  2  2 -- -4 -2  2  8 -- -- -- -- -- -- -- -- -- -- -- -- -- -- -- --  4 -2  2 -- --  2  2 --  4  2 -2 -- -- -2 -2 -- --  2 -2  4 --  2  2 -- --  2 -2 -4 --  2  2 -- -- --  4 -- -- --  4 -- -- -4 -- -- --  4 -- -- --  2 -2  4 --  2  2 -- -- -2  2  4 -- -2 -2 --  4 -- -- --  4 -- -- -- -4 -- -- --  4 -- -- -- -2 --  2 -- -2 --  2  4 -2  4  2 --  2 -- -2 --  2  2 -- -- -2 -2 -- -4  2  2  4 --  2  2 -- --  2 -- -2 --  2 -- -2  4  2 --  2 -- -2  4 -2 --  2  2 -- -- -2 -2 --  4  2 -2 -- --  2 -2  4 --  2 -2 -- -- -2  2 -- -- -2  2 --  4 -2  2  4 -- -2 -- -2 -4  2  4  2 --  2 --  2 --  2 --  2 -- -2  2 -- --  2 -2 -- --  2  2 -4  4  2  2 -- -- -2 -4  2  4  2 -- -2 --  2 --  2 --  2 --  2\n",
      " 3  -- --  4  4 -- -- -4  4 -- -- -- -- -- -- -- -- -- --  2  2  4 --  2 -2 -- --  2  2 -4 --  2 -2 --  8 -- -- -- -- -- -- -- -- -- -- -- -- -- --  4 --  2 -2 -- --  2  2  4 -- -2  2 -- -- -2 -2 -- -- -2  2 --  4  2  2 -- -- -2  2 -- -4  2  2 -- --  4 -- -- --  4 -- -- -- -- -4 -- -- --  4 -- -- -2  2 --  4  2  2 -- --  2 -2 --  4 -2 -2  4 -- -- --  4 -- -- -- -4 -- -- --  4 -- -- -- -2 --  2 -- -2 --  2 -- -2  4  2  4  2 -- -2 --  2 -- --  2 -2 -- -- -2  2 -4  4  2  2 -- --  2  2 -- -2 --  2 -- -2 --  2  4  2 -- -2 -- -2  4  2 -- --  2 -2 -- -- -2  2  4 -- -2  2 --  4 -2  2 -- -- -2 -2 -- --  2 -2 -- --  2 -2  4  4  2 -2 -- -2 --  2 -4  2  4  2 --  2 --  2 --  2 -- -2 -- --  2  2 -- -- -2  2 -- -4  2  2  4 --  2 -2 --  2 -4  2  4 -2 --  2 --  2 --  2 --  2 --\n",
      " 4  -- --  2 -2  4 --  2  2 -- -- -2  2  4 -- -2 -2 --  4 -- -- --  4 -- -- -- -4 -- -- --  4 -- -- -- --  2 -2  4 --  2  2 -- --  2 -2 -4 --  2  2 -- -- --  4 -- -- --  4 -- -- -4 -- -- --  4 --  8 -- -- -- -- -- -- -- -- -- -- -- -- -- -- -- --  4 -2  2 -- --  2  2 --  4  2 -2 -- -- -2 -2 -- --  4  4 -- --  4 -4 -- -- -- -- -- -- -- -- -- --  2  2 --  4 -2  2 -- --  2  2 -- -4 -2  2 -- -2  2 -- --  2 -2 -- --  2  2 -4  4  2  2 -- -- -2 -4  2  4  2 -- -2 --  2 --  2 --  2 --  2 --  2 -2 -- -- -2  2 -- -- -2  2 --  4 -2  2  4 -- -2 -- -2 -4  2  4  2 --  2 --  2 --  2 --  2 --  2 -- -2 --  2 -- -2  4  2 --  2 -- -2  4 -2 --  2  2 -- -- -2 -2 --  4  2 -2 -- --  2 -2  4 -- -2 --  2 -- -2 --  2  4 -2  4  2 --  2 -- -2 --  2  2 -- -- -2 -2 -- -4  2  2  4 --  2  2 --\n",
      " 5  -- -- -2  2 --  4  2  2 -- --  2 -2 --  4 -2 -2  4 -- -- --  4 -- -- -- -4 -- -- --  4 -- -- -- -- -- -2  2 --  4  2  2 -- -- -2  2 -- -4  2  2 -- --  4 -- -- --  4 -- -- -- -- -4 -- -- --  4 --  8 -- -- -- -- -- -- -- -- -- -- -- -- -- --  4 --  2 -2 -- --  2  2  4 -- -2  2 -- -- -2 -2 -- --  4  4 -- -- -4  4 -- -- -- -- -- -- -- -- -- --  2  2  4 --  2 -2 -- --  2  2 -4 --  2 -2 -2 -- --  2  2 -- -- -2  2 -- -4  2  2  4 --  2 -2 --  2 -4  2  4 -2 --  2 --  2 --  2 --  2 --  2 -- -- -2 -2 -- --  2 -2 -- --  2 -2  4  4  2 -2 -- -2 --  2 -4  2  4  2 --  2 --  2 --  2 --  2 -- -2 --  2 -- -2 --  2  4  2 -- -2 -- -2  4  2 -- --  2 -2 -- -- -2  2  4 -- -2  2 --  4 -2 -2 --  2 -- -2 --  2 -- -2  4  2  4  2 -- -2 --  2 -- --  2 -2 -- -- -2  2 -4  4  2  2 -- --  2\n",
      " 6  -- --  2 -2  4 --  2  2 -- --  2 -2 -4 --  2  2 -- -- --  4 -- -- --  4 -- -- -4 -- -- --  4 -- -- --  2 -2  4 --  2  2 -- -- -2  2  4 -- -2 -2 --  4 -- -- --  4 -- -- -- -4 -- -- --  4 -- -- -- --  4  4 -- --  4 -4 -- -- -- -- -- -- -- -- -- --  2  2 --  4 -2  2 -- --  2  2 -- -4 -2  2  8 -- -- -- -- -- -- -- -- -- -- -- -- -- -- -- --  4 -2  2 -- --  2  2 --  4  2 -2 -- -- -2 -2 --  2 -2 -- -- -2  2 -- -- -2  2 --  4 -2  2  4 -- -2 -- -2 -4  2  4  2 --  2 --  2 --  2 --  2 -- -2  2 -- --  2 -2 -- --  2  2 -4  4  2  2 -- -- -2 -4  2  4  2 -- -2 --  2 --  2 --  2 --  2 -- -2 --  2 -- -2 --  2  4 -2  4  2 --  2 -- -2 --  2  2 -- -- -2 -2 -- -4  2  2  4 --  2  2 -- --  2 -- -2 --  2 -- -2  4  2 --  2 -- -2  4 -2 --  2  2 -- -- -2 -2 --  4  2 -2 -- --  2 -2  4\n",
      " 7  -- -- -2  2 --  4  2  2 -- -- -2  2 -- -4  2  2 -- --  4 -- -- --  4 -- -- -- -- -4 -- -- --  4 -- -- -2  2 --  4  2  2 -- --  2 -2 --  4 -2 -2  4 -- -- --  4 -- -- -- -4 -- -- --  4 -- -- -- -- --  4  4 -- -- -4  4 -- -- -- -- -- -- -- -- -- --  2  2  4 --  2 -2 -- --  2  2 -4 --  2 -2 --  8 -- -- -- -- -- -- -- -- -- -- -- -- -- --  4 --  2 -2 -- --  2  2  4 -- -2  2 -- -- -2 -2  2 -- -- -2 -2 -- --  2 -2 -- --  2 -2  4  4  2 -2 -- -2 --  2 -4  2  4  2 --  2 --  2 --  2 -- -2 -- --  2  2 -- -- -2  2 -- -4  2  2  4 --  2 -2 --  2 -4  2  4 -2 --  2 --  2 --  2 --  2 -- -2 --  2 -- -2 --  2 -- -2  4  2  4  2 -- -2 --  2 -- --  2 -2 -- -- -2  2 -4  4  2  2 -- --  2  2 -- -2 --  2 -- -2 --  2  4  2 -- -2 -- -2  4  2 -- --  2 -2 -- -- -2  2  4 -- -2  2 --  4 -2\n",
      " 8  -- -- -- -- -- -- -- --  8 -- -- -- -- -- -- -- --  4  2 -2 -- -- -2 -2 --  4 -2  2 -- --  2  2 -- -- -- -- -- -- -- -- -- --  4  4 -- --  4 -4 -- --  2  2 -- -4 -2  2 -- --  2  2 --  4 -2  2 -- -- -2  2  4 -- -2 -2 -- --  2 -2  4 --  2  2 -- -4 -- -- --  4 -- -- --  4 -- -- --  4 -- -- -- --  2 -2 -4 --  2  2 -- --  2 -2  4 --  2  2 -- -- -4 -- -- --  4 -- -- -- --  4 -- -- --  4  4  2 --  2 -- -2  4 -2 --  2 -- -2 --  2 -- -2  4  2 -2 -- --  2 -2  4 --  2  2 -- -- -2 -2 --  4 -2  4  2 --  2 -- -2 -- -2 --  2 -- -2 --  2 -4  2  2  4 --  2  2 -- --  2  2 -- -- -2 -2 -- --  2  2 -4  4  2  2 -- -- -2  2 -- --  2 -2 -- --  2 --  2 --  2 --  2 -- -2 -4  2  4  2 -- -2 -- -2  2 --  4 -2  2  4 --  2 -2 -- -- -2  2 -- --  2 --  2 --  2 --  2 -- -2 -- -2 -4  2  4  2\n",
      " 9  -- -- -- -- -- -- -- -- --  8 -- -- -- -- -- --  4 -- -2  2 -- -- -2 -2  4 --  2 -2 -- --  2  2 -- -- -- -- -- -- -- -- -- --  4  4 -- -- -4  4 -- --  2  2 -4 --  2 -2 -- --  2  2  4 --  2 -2 -- --  2 -2 --  4 -2 -2 -- -- -2  2 --  4  2  2 -4 -- -- --  4 -- -- --  4 -- -- --  4 -- -- -- -- -- -2  2 -- -4  2  2 -- -- -2  2 --  4  2  2 -- -- -- -4 -- -- --  4 -- --  4 -- -- --  4 --  2  4  2 -- -2 -- -2  4  2 -- -2 --  2 -- -2 --  2  4 -- -2  2 --  4 -2  2 -- --  2 -2 -- -- -2 -2  4  2  4  2 -- -2 -- -2 --  2 -- -2 --  2 --  2 -4  4  2  2 -- --  2  2 -- --  2 -2 -- -- -2  2 -- -4  2  2  4 --  2 -2 -- --  2  2 -- -- -2  2 --  2 --  2 --  2 -- -2 --  2 -4  2  4 -2 -- -2 -- --  2 -2  4  4  2  2 -- -- -2 -2 -- --  2  2 --  2 --  2 --  2 -- -2 -- -2 --  2 -4  2  4\n"
     ]
    },
    {
     "name": "stdout",
     "output_type": "stream",
     "text": [
      " A  -- -- -- -- -- -- -- -- -- --  4  4 -- --  4 -4 -- --  2  2 -- -4 -2  2 -- --  2  2 --  4 -2  2 -- -- -- -- -- -- -- --  8 -- -- -- -- -- -- -- --  4  2 -2 -- -- -2 -2 --  4 -2  2 -- --  2  2 -- --  2 -2 -4 --  2  2 -- --  2 -2  4 --  2  2 -- -- -4 -- -- --  4 -- -- -- --  4 -- -- --  4 -- -- -2  2  4 -- -2 -2 -- --  2 -2  4 --  2  2 -- -4 -- -- --  4 -- -- --  4 -- -- --  4 -- --  4 -2  4  2 --  2 -- -2 -- -2 --  2 -- -2 --  2 -4  2  2  4 --  2  2 -- --  2  2 -- -- -2 -2 --  4  2 --  2 -- -2  4 -2 --  2 -- -2 --  2 -- -2  4  2 -2 -- --  2 -2  4 --  2  2 -- -- -2 -2 -- -- -2  2 --  4 -2  2  4 --  2 -2 -- -- -2  2 -- --  2 --  2 --  2 --  2 -- -2 -- -2 -4  2  4  2 --  2  2 -4  4  2  2 -- -- -2  2 -- --  2 -2 -- --  2 --  2 --  2 --  2 -- -2 -4  2  4  2 -- -2\n",
      " B  -- -- -- -- -- -- -- -- -- --  4  4 -- -- -4  4 -- --  2  2 -4 --  2 -2 -- --  2  2  4 --  2 -2 -- -- -- -- -- -- -- -- --  8 -- -- -- -- -- --  4 -- -2  2 -- -- -2 -2  4 --  2 -2 -- --  2  2 -- -- -2  2 -- -4  2  2 -- -- -2  2 --  4  2  2 -- -- -- -4 -- -- --  4 -- --  4 -- -- --  4 -- -- --  2 -2 --  4 -2 -2 -- -- -2  2 --  4  2  2 -4 -- -- --  4 -- -- --  4 -- -- --  4 -- -- -- -2  4  2  4  2 -- -2 -- -2 --  2 -- -2 --  2 --  2 -4  4  2  2 -- --  2  2 -- --  2 -2 -- -- -2  2  4  2 -- -2 -- -2  4  2 -- -2 --  2 -- -2 --  2  4 -- -2  2 --  4 -2  2 -- --  2 -2 -- -- -2 -2 -- --  2 -2  4  4  2  2 -- -- -2 -2 -- --  2  2 --  2 --  2 --  2 -- -2 -- -2 --  2 -4  2  4  2 -- -4  2  2  4 --  2 -2 -- --  2  2 -- -- -2  2 --  2 --  2 --  2 -- -2 --  2 -4  2  4 -2 --\n",
      " C  -- -- -2  2  4 -- -2 -2 -- --  2 -2  4 --  2  2 -- -4 -- -- --  4 -- -- --  4 -- -- --  4 -- -- -- --  2 -2 -4 --  2  2 -- --  2 -2  4 --  2  2 -- -- -4 -- -- --  4 -- -- -- --  4 -- -- --  4 -- -- -- -- -- -- -- --  8 -- -- -- -- -- -- -- --  4  2 -2 -- -- -2 -2 --  4 -2  2 -- --  2  2 -- -- -- -- -- -- -- -- -- --  4  4 -- --  4 -4 -- --  2  2 -- -4 -2  2 -- --  2  2 --  4 -2  2 --  2  2 -4  4  2  2 -- -- -2  2 -- --  2 -2 -- --  2 --  2 --  2 --  2 -- -2 -4  2  4  2 -- -2 -- -2  2 --  4 -2  2  4 --  2 -2 -- -- -2  2 -- --  2 --  2 --  2 --  2 -- -2 -- -2 -4  2  4  2  4  2 --  2 -- -2  4 -2 --  2 -- -2 --  2 -- -2  4  2 -2 -- --  2 -2  4 --  2  2 -- -- -2 -2 --  4 -2  4  2 --  2 -- -2 -- -2 --  2 -- -2 --  2 -4  2  2  4 --  2  2 -- --  2  2 -- -- -2 -2 --\n",
      " D  -- --  2 -2 --  4 -2 -2 -- -- -2  2 --  4  2  2 -4 -- -- --  4 -- -- --  4 -- -- --  4 -- -- -- -- -- -2  2 -- -4  2  2 -- -- -2  2 --  4  2  2 -- -- -- -4 -- -- --  4 -- --  4 -- -- --  4 -- -- -- -- -- -- -- -- -- --  8 -- -- -- -- -- --  4 -- -2  2 -- -- -2 -2  4 --  2 -2 -- --  2  2 -- -- -- -- -- -- -- -- -- --  4  4 -- -- -4  4 -- --  2  2 -4 --  2 -2 -- --  2  2  4 --  2 -2  2 -- -4  2  2  4 --  2 -2 -- --  2  2 -- -- -2  2 --  2 --  2 --  2 -- -2 --  2 -4  2  4 -2 -- -2 -- --  2 -2  4  4  2  2 -- -- -2 -2 -- --  2  2 --  2 --  2 --  2 -- -2 -- -2 --  2 -4  2  4  2  4  2 -- -2 -- -2  4  2 -- -2 --  2 -- -2 --  2  4 -- -2  2 --  4 -2  2 -- --  2 -2 -- -- -2 -2  4  2  4  2 -- -2 -- -2 --  2 -- -2 --  2 --  2 -4  4  2  2 -- --  2  2 -- --  2 -2 -- -- -2\n",
      " E  -- --  2 -2 -4 --  2  2 -- --  2 -2  4 --  2  2 -- -- -4 -- -- --  4 -- -- -- --  4 -- -- --  4 -- -- -2  2  4 -- -2 -2 -- --  2 -2  4 --  2  2 -- -4 -- -- --  4 -- -- --  4 -- -- --  4 -- -- -- -- -- -- -- -- -- -- -- --  4  4 -- --  4 -4 -- --  2  2 -- -4 -2  2 -- --  2  2 --  4 -2  2 -- -- -- -- -- -- -- --  8 -- -- -- -- -- -- -- --  4  2 -2 -- -- -2 -2 --  4 -2  2 -- --  2  2 -- -2  2 --  4 -2  2  4 --  2 -2 -- -- -2  2 -- --  2 --  2 --  2 --  2 -- -2 -- -2 -4  2  4  2 --  2  2 -4  4  2  2 -- -- -2  2 -- --  2 -2 -- --  2 --  2 --  2 --  2 -- -2 -4  2  4  2 -- -2  4 -2  4  2 --  2 -- -2 -- -2 --  2 -- -2 --  2 -4  2  2  4 --  2  2 -- --  2  2 -- -- -2 -2 --  4  2 --  2 -- -2  4 -2 --  2 -- -2 --  2 -- -2  4  2 -2 -- --  2 -2  4 --  2  2 -- -- -2 -2 --\n",
      " F  -- -- -2  2 -- -4  2  2 -- -- -2  2 --  4  2  2 -- -- -- -4 -- -- --  4 -- --  4 -- -- --  4 -- -- --  2 -2 --  4 -2 -2 -- -- -2  2 --  4  2  2 -4 -- -- --  4 -- -- --  4 -- -- --  4 -- -- -- -- -- -- -- -- -- -- -- -- --  4  4 -- -- -4  4 -- --  2  2 -4 --  2 -2 -- --  2  2  4 --  2 -2 -- -- -- -- -- -- -- -- --  8 -- -- -- -- -- --  4 -- -2  2 -- -- -2 -2  4 --  2 -2 -- --  2  2 -2 -- --  2 -2  4  4  2  2 -- -- -2 -2 -- --  2  2 --  2 --  2 --  2 -- -2 -- -2 --  2 -4  2  4  2 -- -4  2  2  4 --  2 -2 -- --  2  2 -- -- -2  2 --  2 --  2 --  2 -- -2 --  2 -4  2  4 -2 -- -2  4  2  4  2 -- -2 -- -2 --  2 -- -2 --  2 --  2 -4  4  2  2 -- --  2  2 -- --  2 -2 -- -- -2  2  4  2 -- -2 -- -2  4  2 -- -2 --  2 -- -2 --  2  4 -- -2  2 --  4 -2  2 -- --  2 -2 -- -- -2\n"
     ]
    },
    {
     "data": {
      "image/png": "[encoded data removed]",
      "text/plain": [
       "Graphics object consisting of 1 graphics primitive"
      ]
     },
     "execution_count": 11,
     "metadata": {},
     "output_type": "execute_result"
    }
   ],
   "source": [
    "LAT_SSb = SSb.linear_approximation_table()\n",
    "abs_LAT_SSb = list(LAT_SSb)\n",
    "\n",
    "for i in range(len(abs_LAT_SSb)):\n",
    "    for j in range(len(abs_LAT_SSb[0])):\n",
    "        abs_LAT_SSb[i][j] = abs(abs_LAT_SSb[i][j])\n",
    "\n",
    "PrintTable(LAT_SSb, 256)\n",
    "matrix_plot(abs_LAT_SSb, aspect_ratio='automatic')"
   ]
  },
  {
   "cell_type": "code",
   "execution_count": 12,
   "metadata": {
    "ExecuteTime": {
     "end_time": "2020-03-04T02:28:39.460927Z",
     "start_time": "2020-03-04T02:28:38.374024Z"
    },
    "deletable": false,
    "editable": false,
    "scrolled": false
   },
   "outputs": [
    {
     "name": "stdout",
     "output_type": "stream",
     "text": [
      "{ {0x00, 8}, {0x11, 4}, {0x12, -2}, {0x13, 2}, {0x16, 2}, {0x17, 2}, {0x19, 4}, {0x1A, 2}, {0x1B, -2}, {0x1E, -2}, {0x1F, -2}, {0x22, 4}, {0x23, 4}, {0x26, 4}, {0x27, -4}, {0x32, 2}, {0x33, 2}, {0x35, 4}, {0x36, -2}, {0x37, 2}, {0x3A, 2}, {0x3B, 2}, {0x3D, -4}, {0x3E, -2}, {0x3F, 2}, {0x42, 2}, {0x43, -2}, {0x44, 4}, {0x46, 2}, {0x47, 2}, {0x4A, -2}, {0x4B, 2}, {0x4C, 4}, {0x4E, -2}, {0x4F, -2}, {0x51, 4}, {0x55, 4}, {0x59, -4}, {0x5D, 4}, {0x62, 2}, {0x63, -2}, {0x64, 4}, {0x66, 2}, {0x67, 2}, {0x6A, 2}, {0x6B, -2}, {0x6C, -4}, {0x6E, 2}, {0x6F, 2}, {0x73, 4}, {0x77, 4}, {0x7A, -4}, {0x7E, 4}, {0x81, 2}, {0x83, -2}, {0x85, 2}, {0x87, -2}, {0x88, 4}, {0x89, 2}, {0x8B, 2}, {0x8D, -2}, {0x8E, 4}, {0x8F, -2}, {0x91, 2}, {0x92, 2}, {0x95, -2}, {0x96, -2}, {0x98, 4}, {0x99, 2}, {0x9A, -2}, {0x9D, 2}, {0x9E, -2}, {0x9F, 4}, {0xA1, -2}, {0xA3, 2}, {0xA5, -2}, {0xA7, 2}, {0xA8, 4}, {0xA9, -2}, {0xAA, 4}, {0xAB, 2}, {0xAD, 2}, {0xAF, -2}, {0xB1, 2}, {0xB2, 2}, {0xB5, -2}, {0xB6, -2}, {0xB8, -4}, {0xB9, 2}, {0xBA, 2}, {0xBB, 4}, {0xBD, 2}, {0xBE, 2}, {0xC1, -2}, {0xC2, 2}, {0xC5, 2}, {0xC6, -2}, {0xC9, 2}, {0xCA, 2}, {0xCB, -4}, {0xCC, 4}, {0xCD, 2}, {0xCE, 2}, {0xD1, -2}, {0xD2, -4}, {0xD3, 2}, {0xD4, 4}, {0xD5, 2}, {0xD7, -2}, {0xD9, 2}, {0xDB, 2}, {0xDD, 2}, {0xDF, 2}, {0xE1, 2}, {0xE2, -2}, {0xE5, -2}, {0xE6, 2}, {0xE9, -2}, {0xEA, 2}, {0xEC, 4}, {0xED, -2}, {0xEE, 2}, {0xEF, 4}, {0xF1, -2}, {0xF3, -2}, {0xF4, -4}, {0xF5, 2}, {0xF6, 4}, {0xF7, 2}, {0xF9, 2}, {0xFB, 2}, {0xFD, 2}, {0xFF, 2}, },\n",
      "{ {0x01, 8}, {0x10, 4}, {0x12, 2}, {0x13, -2}, {0x16, 2}, {0x17, 2}, {0x18, 4}, {0x1A, -2}, {0x1B, 2}, {0x1E, -2}, {0x1F, -2}, {0x22, 4}, {0x23, 4}, {0x26, -4}, {0x27, 4}, {0x32, 2}, {0x33, 2}, {0x34, 4}, {0x36, 2}, {0x37, -2}, {0x3A, 2}, {0x3B, 2}, {0x3C, -4}, {0x3E, 2}, {0x3F, -2}, {0x42, -2}, {0x43, 2}, {0x45, 4}, {0x46, 2}, {0x47, 2}, {0x4A, 2}, {0x4B, -2}, {0x4D, 4}, {0x4E, -2}, {0x4F, -2}, {0x50, 4}, {0x54, 4}, {0x58, -4}, {0x5C, 4}, {0x62, -2}, {0x63, 2}, {0x65, 4}, {0x66, 2}, {0x67, 2}, {0x6A, -2}, {0x6B, 2}, {0x6D, -4}, {0x6E, 2}, {0x6F, 2}, {0x72, 4}, {0x76, 4}, {0x7B, -4}, {0x7F, 4}, {0x80, 2}, {0x82, -2}, {0x84, 2}, {0x86, -2}, {0x88, 2}, {0x89, 4}, {0x8A, 2}, {0x8C, -2}, {0x8E, -2}, {0x8F, 4}, {0x90, 2}, {0x93, 2}, {0x94, -2}, {0x97, -2}, {0x98, 2}, {0x99, 4}, {0x9B, -2}, {0x9C, 2}, {0x9E, 4}, {0x9F, -2}, {0xA0, -2}, {0xA2, 2}, {0xA4, -2}, {0xA6, 2}, {0xA8, -2}, {0xA9, 4}, {0xAA, 2}, {0xAB, 4}, {0xAC, 2}, {0xAE, -2}, {0xB0, 2}, {0xB3, 2}, {0xB4, -2}, {0xB7, -2}, {0xB8, 2}, {0xB9, -4}, {0xBA, 4}, {0xBB, 2}, {0xBC, 2}, {0xBF, 2}, {0xC0, -2}, {0xC3, 2}, {0xC4, 2}, {0xC7, -2}, {0xC8, 2}, {0xCA, -4}, {0xCB, 2}, {0xCC, 2}, {0xCD, 4}, {0xCF, 2}, {0xD0, -2}, {0xD2, 2}, {0xD3, -4}, {0xD4, 2}, {0xD5, 4}, {0xD6, -2}, {0xD8, 2}, {0xDA, 2}, {0xDC, 2}, {0xDE, 2}, {0xE0, 2}, {0xE3, -2}, {0xE4, -2}, {0xE7, 2}, {0xE8, -2}, {0xEB, 2}, {0xEC, -2}, {0xED, 4}, {0xEE, 4}, {0xEF, 2}, {0xF0, -2}, {0xF2, -2}, {0xF4, 2}, {0xF5, -4}, {0xF6, 2}, {0xF7, 4}, {0xF8, 2}, {0xFA, 2}, {0xFC, 2}, {0xFE, 2}, },\n",
      "{ {0x02, 4}, {0x03, 4}, {0x06, 4}, {0x07, -4}, {0x12, 2}, {0x13, 2}, {0x15, 4}, {0x16, -2}, {0x17, 2}, {0x1A, 2}, {0x1B, 2}, {0x1D, -4}, {0x1E, -2}, {0x1F, 2}, {0x20, 8}, {0x31, 4}, {0x32, -2}, {0x33, 2}, {0x36, 2}, {0x37, 2}, {0x39, 4}, {0x3A, 2}, {0x3B, -2}, {0x3E, -2}, {0x3F, -2}, {0x42, 2}, {0x43, -2}, {0x44, 4}, {0x46, 2}, {0x47, 2}, {0x4A, 2}, {0x4B, -2}, {0x4C, -4}, {0x4E, 2}, {0x4F, 2}, {0x53, 4}, {0x57, 4}, {0x5A, -4}, {0x5E, 4}, {0x62, 2}, {0x63, -2}, {0x64, 4}, {0x66, 2}, {0x67, 2}, {0x6A, -2}, {0x6B, 2}, {0x6C, 4}, {0x6E, -2}, {0x6F, -2}, {0x71, 4}, {0x75, 4}, {0x79, -4}, {0x7D, 4}, {0x81, -2}, {0x83, 2}, {0x85, -2}, {0x87, 2}, {0x88, 4}, {0x89, -2}, {0x8A, 4}, {0x8B, 2}, {0x8D, 2}, {0x8F, -2}, {0x91, 2}, {0x92, 2}, {0x95, -2}, {0x96, -2}, {0x98, -4}, {0x99, 2}, {0x9A, 2}, {0x9B, 4}, {0x9D, 2}, {0x9E, 2}, {0xA1, 2}, {0xA3, -2}, {0xA5, 2}, {0xA7, -2}, {0xA8, 4}, {0xA9, 2}, {0xAB, 2}, {0xAD, -2}, {0xAE, 4}, {0xAF, -2}, {0xB1, 2}, {0xB2, 2}, {0xB5, -2}, {0xB6, -2}, {0xB8, 4}, {0xB9, 2}, {0xBA, -2}, {0xBD, 2}, {0xBE, -2}, {0xBF, 4}, {0xC1, 2}, {0xC2, -2}, {0xC5, -2}, {0xC6, 2}, {0xC9, -2}, {0xCA, 2}, {0xCC, 4}, {0xCD, -2}, {0xCE, 2}, {0xCF, 4}, {0xD1, -2}, {0xD3, -2}, {0xD4, -4}, {0xD5, 2}, {0xD6, 4}, {0xD7, 2}, {0xD9, 2}, {0xDB, 2}, {0xDD, 2}, {0xDF, 2}, {0xE1, -2}, {0xE2, 2}, {0xE5, 2}, {0xE6, -2}, {0xE9, 2}, {0xEA, 2}, {0xEB, -4}, {0xEC, 4}, {0xED, 2}, {0xEE, 2}, {0xF1, -2}, {0xF2, -4}, {0xF3, 2}, {0xF4, 4}, {0xF5, 2}, {0xF7, -2}, {0xF9, 2}, {0xFB, 2}, {0xFD, 2}, {0xFF, 2}, },\n",
      "{ {0x02, 4}, {0x03, 4}, {0x06, -4}, {0x07, 4}, {0x12, 2}, {0x13, 2}, {0x14, 4}, {0x16, 2}, {0x17, -2}, {0x1A, 2}, {0x1B, 2}, {0x1C, -4}, {0x1E, 2}, {0x1F, -2}, {0x21, 8}, {0x30, 4}, {0x32, 2}, {0x33, -2}, {0x36, 2}, {0x37, 2}, {0x38, 4}, {0x3A, -2}, {0x3B, 2}, {0x3E, -2}, {0x3F, -2}, {0x42, -2}, {0x43, 2}, {0x45, 4}, {0x46, 2}, {0x47, 2}, {0x4A, -2}, {0x4B, 2}, {0x4D, -4}, {0x4E, 2}, {0x4F, 2}, {0x52, 4}, {0x56, 4}, {0x5B, -4}, {0x5F, 4}, {0x62, -2}, {0x63, 2}, {0x65, 4}, {0x66, 2}, {0x67, 2}, {0x6A, 2}, {0x6B, -2}, {0x6D, 4}, {0x6E, -2}, {0x6F, -2}, {0x70, 4}, {0x74, 4}, {0x78, -4}, {0x7C, 4}, {0x80, -2}, {0x82, 2}, {0x84, -2}, {0x86, 2}, {0x88, -2}, {0x89, 4}, {0x8A, 2}, {0x8B, 4}, {0x8C, 2}, {0x8E, -2}, {0x90, 2}, {0x93, 2}, {0x94, -2}, {0x97, -2}, {0x98, 2}, {0x99, -4}, {0x9A, 4}, {0x9B, 2}, {0x9C, 2}, {0x9F, 2}, {0xA0, 2}, {0xA2, -2}, {0xA4, 2}, {0xA6, -2}, {0xA8, 2}, {0xA9, 4}, {0xAA, 2}, {0xAC, -2}, {0xAE, -2}, {0xAF, 4}, {0xB0, 2}, {0xB3, 2}, {0xB4, -2}, {0xB7, -2}, {0xB8, 2}, {0xB9, 4}, {0xBB, -2}, {0xBC, 2}, {0xBE, 4}, {0xBF, -2}, {0xC0, 2}, {0xC3, -2}, {0xC4, -2}, {0xC7, 2}, {0xC8, -2}, {0xCB, 2}, {0xCC, -2}, {0xCD, 4}, {0xCE, 4}, {0xCF, 2}, {0xD0, -2}, {0xD2, -2}, {0xD4, 2}, {0xD5, -4}, {0xD6, 2}, {0xD7, 4}, {0xD8, 2}, {0xDA, 2}, {0xDC, 2}, {0xDE, 2}, {0xE0, -2}, {0xE3, 2}, {0xE4, 2}, {0xE7, -2}, {0xE8, 2}, {0xEA, -4}, {0xEB, 2}, {0xEC, 2}, {0xED, 4}, {0xEF, 2}, {0xF0, -2}, {0xF2, 2}, {0xF3, -4}, {0xF4, 2}, {0xF5, 4}, {0xF6, -2}, {0xF8, 2}, {0xFA, 2}, {0xFC, 2}, {0xFE, 2}, },\n",
      "{ {0x02, 2}, {0x03, -2}, {0x04, 4}, {0x06, 2}, {0x07, 2}, {0x0A, -2}, {0x0B, 2}, {0x0C, 4}, {0x0E, -2}, {0x0F, -2}, {0x11, 4}, {0x15, 4}, {0x19, -4}, {0x1D, 4}, {0x22, 2}, {0x23, -2}, {0x24, 4}, {0x26, 2}, {0x27, 2}, {0x2A, 2}, {0x2B, -2}, {0x2C, -4}, {0x2E, 2}, {0x2F, 2}, {0x33, 4}, {0x37, 4}, {0x3A, -4}, {0x3E, 4}, {0x40, 8}, {0x51, 4}, {0x52, -2}, {0x53, 2}, {0x56, 2}, {0x57, 2}, {0x59, 4}, {0x5A, 2}, {0x5B, -2}, {0x5E, -2}, {0x5F, -2}, {0x62, 4}, {0x63, 4}, {0x66, 4}, {0x67, -4}, {0x72, 2}, {0x73, 2}, {0x75, 4}, {0x76, -2}, {0x77, 2}, {0x7A, 2}, {0x7B, 2}, {0x7D, -4}, {0x7E, -2}, {0x7F, 2}, {0x81, -2}, {0x82, 2}, {0x85, 2}, {0x86, -2}, {0x89, 2}, {0x8A, 2}, {0x8B, -4}, {0x8C, 4}, {0x8D, 2}, {0x8E, 2}, {0x91, -2}, {0x92, -4}, {0x93, 2}, {0x94, 4}, {0x95, 2}, {0x97, -2}, {0x99, 2}, {0x9B, 2}, {0x9D, 2}, {0x9F, 2}, {0xA1, 2}, {0xA2, -2}, {0xA5, -2}, {0xA6, 2}, {0xA9, -2}, {0xAA, 2}, {0xAC, 4}, {0xAD, -2}, {0xAE, 2}, {0xAF, 4}, {0xB1, -2}, {0xB3, -2}, {0xB4, -4}, {0xB5, 2}, {0xB6, 4}, {0xB7, 2}, {0xB9, 2}, {0xBB, 2}, {0xBD, 2}, {0xBF, 2}, {0xC1, 2}, {0xC3, -2}, {0xC5, 2}, {0xC7, -2}, {0xC8, 4}, {0xC9, 2}, {0xCB, 2}, {0xCD, -2}, {0xCE, 4}, {0xCF, -2}, {0xD1, 2}, {0xD2, 2}, {0xD5, -2}, {0xD6, -2}, {0xD8, 4}, {0xD9, 2}, {0xDA, -2}, {0xDD, 2}, {0xDE, -2}, {0xDF, 4}, {0xE1, -2}, {0xE3, 2}, {0xE5, -2}, {0xE7, 2}, {0xE8, 4}, {0xE9, -2}, {0xEA, 4}, {0xEB, 2}, {0xED, 2}, {0xEF, -2}, {0xF1, 2}, {0xF2, 2}, {0xF5, -2}, {0xF6, -2}, {0xF8, -4}, {0xF9, 2}, {0xFA, 2}, {0xFB, 4}, {0xFD, 2}, {0xFE, 2}, },\n",
      "{ {0x02, -2}, {0x03, 2}, {0x05, 4}, {0x06, 2}, {0x07, 2}, {0x0A, 2}, {0x0B, -2}, {0x0D, 4}, {0x0E, -2}, {0x0F, -2}, {0x10, 4}, {0x14, 4}, {0x18, -4}, {0x1C, 4}, {0x22, -2}, {0x23, 2}, {0x25, 4}, {0x26, 2}, {0x27, 2}, {0x2A, -2}, {0x2B, 2}, {0x2D, -4}, {0x2E, 2}, {0x2F, 2}, {0x32, 4}, {0x36, 4}, {0x3B, -4}, {0x3F, 4}, {0x41, 8}, {0x50, 4}, {0x52, 2}, {0x53, -2}, {0x56, 2}, {0x57, 2}, {0x58, 4}, {0x5A, -2}, {0x5B, 2}, {0x5E, -2}, {0x5F, -2}, {0x62, 4}, {0x63, 4}, {0x66, -4}, {0x67, 4}, {0x72, 2}, {0x73, 2}, {0x74, 4}, {0x76, 2}, {0x77, -2}, {0x7A, 2}, {0x7B, 2}, {0x7C, -4}, {0x7E, 2}, {0x7F, -2}, {0x80, -2}, {0x83, 2}, {0x84, 2}, {0x87, -2}, {0x88, 2}, {0x8A, -4}, {0x8B, 2}, {0x8C, 2}, {0x8D, 4}, {0x8F, 2}, {0x90, -2}, {0x92, 2}, {0x93, -4}, {0x94, 2}, {0x95, 4}, {0x96, -2}, {0x98, 2}, {0x9A, 2}, {0x9C, 2}, {0x9E, 2}, {0xA0, 2}, {0xA3, -2}, {0xA4, -2}, {0xA7, 2}, {0xA8, -2}, {0xAB, 2}, {0xAC, -2}, {0xAD, 4}, {0xAE, 4}, {0xAF, 2}, {0xB0, -2}, {0xB2, -2}, {0xB4, 2}, {0xB5, -4}, {0xB6, 2}, {0xB7, 4}, {0xB8, 2}, {0xBA, 2}, {0xBC, 2}, {0xBE, 2}, {0xC0, 2}, {0xC2, -2}, {0xC4, 2}, {0xC6, -2}, {0xC8, 2}, {0xC9, 4}, {0xCA, 2}, {0xCC, -2}, {0xCE, -2}, {0xCF, 4}, {0xD0, 2}, {0xD3, 2}, {0xD4, -2}, {0xD7, -2}, {0xD8, 2}, {0xD9, 4}, {0xDB, -2}, {0xDC, 2}, {0xDE, 4}, {0xDF, -2}, {0xE0, -2}, {0xE2, 2}, {0xE4, -2}, {0xE6, 2}, {0xE8, -2}, {0xE9, 4}, {0xEA, 2}, {0xEB, 4}, {0xEC, 2}, {0xEE, -2}, {0xF0, 2}, {0xF3, 2}, {0xF4, -2}, {0xF7, -2}, {0xF8, 2}, {0xF9, -4}, {0xFA, 4}, {0xFB, 2}, {0xFC, 2}, {0xFF, 2}, },\n",
      "{ {0x02, 2}, {0x03, -2}, {0x04, 4}, {0x06, 2}, {0x07, 2}, {0x0A, 2}, {0x0B, -2}, {0x0C, -4}, {0x0E, 2}, {0x0F, 2}, {0x13, 4}, {0x17, 4}, {0x1A, -4}, {0x1E, 4}, {0x22, 2}, {0x23, -2}, {0x24, 4}, {0x26, 2}, {0x27, 2}, {0x2A, -2}, {0x2B, 2}, {0x2C, 4}, {0x2E, -2}, {0x2F, -2}, {0x31, 4}, {0x35, 4}, {0x39, -4}, {0x3D, 4}, {0x42, 4}, {0x43, 4}, {0x46, 4}, {0x47, -4}, {0x52, 2}, {0x53, 2}, {0x55, 4}, {0x56, -2}, {0x57, 2}, {0x5A, 2}, {0x5B, 2}, {0x5D, -4}, {0x5E, -2}, {0x5F, 2}, {0x60, 8}, {0x71, 4}, {0x72, -2}, {0x73, 2}, {0x76, 2}, {0x77, 2}, {0x79, 4}, {0x7A, 2}, {0x7B, -2}, {0x7E, -2}, {0x7F, -2}, {0x81, 2}, {0x82, -2}, {0x85, -2}, {0x86, 2}, {0x89, -2}, {0x8A, 2}, {0x8C, 4}, {0x8D, -2}, {0x8E, 2}, {0x8F, 4}, {0x91, -2}, {0x93, -2}, {0x94, -4}, {0x95, 2}, {0x96, 4}, {0x97, 2}, {0x99, 2}, {0x9B, 2}, {0x9D, 2}, {0x9F, 2}, {0xA1, -2}, {0xA2, 2}, {0xA5, 2}, {0xA6, -2}, {0xA9, 2}, {0xAA, 2}, {0xAB, -4}, {0xAC, 4}, {0xAD, 2}, {0xAE, 2}, {0xB1, -2}, {0xB2, -4}, {0xB3, 2}, {0xB4, 4}, {0xB5, 2}, {0xB7, -2}, {0xB9, 2}, {0xBB, 2}, {0xBD, 2}, {0xBF, 2}, {0xC1, -2}, {0xC3, 2}, {0xC5, -2}, {0xC7, 2}, {0xC8, 4}, {0xC9, -2}, {0xCA, 4}, {0xCB, 2}, {0xCD, 2}, {0xCF, -2}, {0xD1, 2}, {0xD2, 2}, {0xD5, -2}, {0xD6, -2}, {0xD8, -4}, {0xD9, 2}, {0xDA, 2}, {0xDB, 4}, {0xDD, 2}, {0xDE, 2}, {0xE1, 2}, {0xE3, -2}, {0xE5, 2}, {0xE7, -2}, {0xE8, 4}, {0xE9, 2}, {0xEB, 2}, {0xED, -2}, {0xEE, 4}, {0xEF, -2}, {0xF1, 2}, {0xF2, 2}, {0xF5, -2}, {0xF6, -2}, {0xF8, 4}, {0xF9, 2}, {0xFA, -2}, {0xFD, 2}, {0xFE, -2}, {0xFF, 4}, },\n",
      "{ {0x02, -2}, {0x03, 2}, {0x05, 4}, {0x06, 2}, {0x07, 2}, {0x0A, -2}, {0x0B, 2}, {0x0D, -4}, {0x0E, 2}, {0x0F, 2}, {0x12, 4}, {0x16, 4}, {0x1B, -4}, {0x1F, 4}, {0x22, -2}, {0x23, 2}, {0x25, 4}, {0x26, 2}, {0x27, 2}, {0x2A, 2}, {0x2B, -2}, {0x2D, 4}, {0x2E, -2}, {0x2F, -2}, {0x30, 4}, {0x34, 4}, {0x38, -4}, {0x3C, 4}, {0x42, 4}, {0x43, 4}, {0x46, -4}, {0x47, 4}, {0x52, 2}, {0x53, 2}, {0x54, 4}, {0x56, 2}, {0x57, -2}, {0x5A, 2}, {0x5B, 2}, {0x5C, -4}, {0x5E, 2}, {0x5F, -2}, {0x61, 8}, {0x70, 4}, {0x72, 2}, {0x73, -2}, {0x76, 2}, {0x77, 2}, {0x78, 4}, {0x7A, -2}, {0x7B, 2}, {0x7E, -2}, {0x7F, -2}, {0x80, 2}, {0x83, -2}, {0x84, -2}, {0x87, 2}, {0x88, -2}, {0x8B, 2}, {0x8C, -2}, {0x8D, 4}, {0x8E, 4}, {0x8F, 2}, {0x90, -2}, {0x92, -2}, {0x94, 2}, {0x95, -4}, {0x96, 2}, {0x97, 4}, {0x98, 2}, {0x9A, 2}, {0x9C, 2}, {0x9E, 2}, {0xA0, -2}, {0xA3, 2}, {0xA4, 2}, {0xA7, -2}, {0xA8, 2}, {0xAA, -4}, {0xAB, 2}, {0xAC, 2}, {0xAD, 4}, {0xAF, 2}, {0xB0, -2}, {0xB2, 2}, {0xB3, -4}, {0xB4, 2}, {0xB5, 4}, {0xB6, -2}, {0xB8, 2}, {0xBA, 2}, {0xBC, 2}, {0xBE, 2}, {0xC0, -2}, {0xC2, 2}, {0xC4, -2}, {0xC6, 2}, {0xC8, -2}, {0xC9, 4}, {0xCA, 2}, {0xCB, 4}, {0xCC, 2}, {0xCE, -2}, {0xD0, 2}, {0xD3, 2}, {0xD4, -2}, {0xD7, -2}, {0xD8, 2}, {0xD9, -4}, {0xDA, 4}, {0xDB, 2}, {0xDC, 2}, {0xDF, 2}, {0xE0, 2}, {0xE2, -2}, {0xE4, 2}, {0xE6, -2}, {0xE8, 2}, {0xE9, 4}, {0xEA, 2}, {0xEC, -2}, {0xEE, -2}, {0xEF, 4}, {0xF0, 2}, {0xF3, 2}, {0xF4, -2}, {0xF7, -2}, {0xF8, 2}, {0xF9, 4}, {0xFB, -2}, {0xFC, 2}, {0xFE, 4}, {0xFF, -2}, },\n"
     ]
    },
    {
     "name": "stdout",
     "output_type": "stream",
     "text": [
      "{ {0x08, 8}, {0x11, 4}, {0x12, 2}, {0x13, -2}, {0x16, -2}, {0x17, -2}, {0x19, 4}, {0x1A, -2}, {0x1B, 2}, {0x1E, 2}, {0x1F, 2}, {0x2A, 4}, {0x2B, 4}, {0x2E, 4}, {0x2F, -4}, {0x32, 2}, {0x33, 2}, {0x35, -4}, {0x36, -2}, {0x37, 2}, {0x3A, 2}, {0x3B, 2}, {0x3D, 4}, {0x3E, -2}, {0x3F, 2}, {0x42, -2}, {0x43, 2}, {0x44, 4}, {0x46, -2}, {0x47, -2}, {0x4A, 2}, {0x4B, -2}, {0x4C, 4}, {0x4E, 2}, {0x4F, 2}, {0x51, -4}, {0x55, 4}, {0x59, 4}, {0x5D, 4}, {0x62, 2}, {0x63, -2}, {0x64, -4}, {0x66, 2}, {0x67, 2}, {0x6A, 2}, {0x6B, -2}, {0x6C, 4}, {0x6E, 2}, {0x6F, 2}, {0x72, -4}, {0x76, 4}, {0x7B, 4}, {0x7F, 4}, {0x80, 4}, {0x81, 2}, {0x83, 2}, {0x85, -2}, {0x86, 4}, {0x87, -2}, {0x89, 2}, {0x8B, -2}, {0x8D, 2}, {0x8F, -2}, {0x90, 4}, {0x91, 2}, {0x92, -2}, {0x95, 2}, {0x96, -2}, {0x97, 4}, {0x99, 2}, {0x9A, 2}, {0x9D, -2}, {0x9E, -2}, {0xA0, 4}, {0xA1, -2}, {0xA2, 4}, {0xA3, 2}, {0xA5, 2}, {0xA7, -2}, {0xA9, -2}, {0xAB, 2}, {0xAD, -2}, {0xAF, 2}, {0xB0, -4}, {0xB1, 2}, {0xB2, 2}, {0xB3, 4}, {0xB5, 2}, {0xB6, 2}, {0xB9, 2}, {0xBA, 2}, {0xBD, -2}, {0xBE, -2}, {0xC1, 2}, {0xC2, 2}, {0xC3, -4}, {0xC4, 4}, {0xC5, 2}, {0xC6, 2}, {0xC9, -2}, {0xCA, 2}, {0xCD, 2}, {0xCE, -2}, {0xD1, 2}, {0xD3, 2}, {0xD5, 2}, {0xD7, 2}, {0xD9, -2}, {0xDA, -4}, {0xDB, 2}, {0xDC, 4}, {0xDD, 2}, {0xDF, -2}, {0xE1, -2}, {0xE2, 2}, {0xE4, 4}, {0xE5, -2}, {0xE6, 2}, {0xE7, 4}, {0xE9, 2}, {0xEA, -2}, {0xED, -2}, {0xEE, 2}, {0xF1, 2}, {0xF3, 2}, {0xF5, 2}, {0xF7, 2}, {0xF9, -2}, {0xFB, -2}, {0xFC, -4}, {0xFD, 2}, {0xFE, 4}, {0xFF, 2}, },\n",
      "{ {0x09, 8}, {0x10, 4}, {0x12, -2}, {0x13, 2}, {0x16, -2}, {0x17, -2}, {0x18, 4}, {0x1A, 2}, {0x1B, -2}, {0x1E, 2}, {0x1F, 2}, {0x2A, 4}, {0x2B, 4}, {0x2E, -4}, {0x2F, 4}, {0x32, 2}, {0x33, 2}, {0x34, -4}, {0x36, 2}, {0x37, -2}, {0x3A, 2}, {0x3B, 2}, {0x3C, 4}, {0x3E, 2}, {0x3F, -2}, {0x42, 2}, {0x43, -2}, {0x45, 4}, {0x46, -2}, {0x47, -2}, {0x4A, -2}, {0x4B, 2}, {0x4D, 4}, {0x4E, 2}, {0x4F, 2}, {0x50, -4}, {0x54, 4}, {0x58, 4}, {0x5C, 4}, {0x62, -2}, {0x63, 2}, {0x65, -4}, {0x66, 2}, {0x67, 2}, {0x6A, -2}, {0x6B, 2}, {0x6D, 4}, {0x6E, 2}, {0x6F, 2}, {0x73, -4}, {0x77, 4}, {0x7A, 4}, {0x7E, 4}, {0x80, 2}, {0x81, 4}, {0x82, 2}, {0x84, -2}, {0x86, -2}, {0x87, 4}, {0x88, 2}, {0x8A, -2}, {0x8C, 2}, {0x8E, -2}, {0x90, 2}, {0x91, 4}, {0x93, -2}, {0x94, 2}, {0x96, 4}, {0x97, -2}, {0x98, 2}, {0x9B, 2}, {0x9C, -2}, {0x9F, -2}, {0xA0, -2}, {0xA1, 4}, {0xA2, 2}, {0xA3, 4}, {0xA4, 2}, {0xA6, -2}, {0xA8, -2}, {0xAA, 2}, {0xAC, -2}, {0xAE, 2}, {0xB0, 2}, {0xB1, -4}, {0xB2, 4}, {0xB3, 2}, {0xB4, 2}, {0xB7, 2}, {0xB8, 2}, {0xBB, 2}, {0xBC, -2}, {0xBF, -2}, {0xC0, 2}, {0xC2, -4}, {0xC3, 2}, {0xC4, 2}, {0xC5, 4}, {0xC7, 2}, {0xC8, -2}, {0xCB, 2}, {0xCC, 2}, {0xCF, -2}, {0xD0, 2}, {0xD2, 2}, {0xD4, 2}, {0xD6, 2}, {0xD8, -2}, {0xDA, 2}, {0xDB, -4}, {0xDC, 2}, {0xDD, 4}, {0xDE, -2}, {0xE0, -2}, {0xE3, 2}, {0xE4, -2}, {0xE5, 4}, {0xE6, 4}, {0xE7, 2}, {0xE8, 2}, {0xEB, -2}, {0xEC, -2}, {0xEF, 2}, {0xF0, 2}, {0xF2, 2}, {0xF4, 2}, {0xF6, 2}, {0xF8, -2}, {0xFA, -2}, {0xFC, 2}, {0xFD, -4}, {0xFE, 2}, {0xFF, 4}, },\n",
      "{ {0x0A, 4}, {0x0B, 4}, {0x0E, 4}, {0x0F, -4}, {0x12, 2}, {0x13, 2}, {0x15, -4}, {0x16, -2}, {0x17, 2}, {0x1A, 2}, {0x1B, 2}, {0x1D, 4}, {0x1E, -2}, {0x1F, 2}, {0x28, 8}, {0x31, 4}, {0x32, 2}, {0x33, -2}, {0x36, -2}, {0x37, -2}, {0x39, 4}, {0x3A, -2}, {0x3B, 2}, {0x3E, 2}, {0x3F, 2}, {0x42, 2}, {0x43, -2}, {0x44, -4}, {0x46, 2}, {0x47, 2}, {0x4A, 2}, {0x4B, -2}, {0x4C, 4}, {0x4E, 2}, {0x4F, 2}, {0x52, -4}, {0x56, 4}, {0x5B, 4}, {0x5F, 4}, {0x62, -2}, {0x63, 2}, {0x64, 4}, {0x66, -2}, {0x67, -2}, {0x6A, 2}, {0x6B, -2}, {0x6C, 4}, {0x6E, 2}, {0x6F, 2}, {0x71, -4}, {0x75, 4}, {0x79, 4}, {0x7D, 4}, {0x80, 4}, {0x81, -2}, {0x82, 4}, {0x83, 2}, {0x85, 2}, {0x87, -2}, {0x89, -2}, {0x8B, 2}, {0x8D, -2}, {0x8F, 2}, {0x90, -4}, {0x91, 2}, {0x92, 2}, {0x93, 4}, {0x95, 2}, {0x96, 2}, {0x99, 2}, {0x9A, 2}, {0x9D, -2}, {0x9E, -2}, {0xA0, 4}, {0xA1, 2}, {0xA3, 2}, {0xA5, -2}, {0xA6, 4}, {0xA7, -2}, {0xA9, 2}, {0xAB, -2}, {0xAD, 2}, {0xAF, -2}, {0xB0, 4}, {0xB1, 2}, {0xB2, -2}, {0xB5, 2}, {0xB6, -2}, {0xB7, 4}, {0xB9, 2}, {0xBA, 2}, {0xBD, -2}, {0xBE, -2}, {0xC1, -2}, {0xC2, 2}, {0xC4, 4}, {0xC5, -2}, {0xC6, 2}, {0xC7, 4}, {0xC9, 2}, {0xCA, -2}, {0xCD, -2}, {0xCE, 2}, {0xD1, 2}, {0xD3, 2}, {0xD5, 2}, {0xD7, 2}, {0xD9, -2}, {0xDB, -2}, {0xDC, -4}, {0xDD, 2}, {0xDE, 4}, {0xDF, 2}, {0xE1, 2}, {0xE2, 2}, {0xE3, -4}, {0xE4, 4}, {0xE5, 2}, {0xE6, 2}, {0xE9, -2}, {0xEA, 2}, {0xED, 2}, {0xEE, -2}, {0xF1, 2}, {0xF3, 2}, {0xF5, 2}, {0xF7, 2}, {0xF9, -2}, {0xFA, -4}, {0xFB, 2}, {0xFC, 4}, {0xFD, 2}, {0xFF, -2}, },\n",
      "{ {0x0A, 4}, {0x0B, 4}, {0x0E, -4}, {0x0F, 4}, {0x12, 2}, {0x13, 2}, {0x14, -4}, {0x16, 2}, {0x17, -2}, {0x1A, 2}, {0x1B, 2}, {0x1C, 4}, {0x1E, 2}, {0x1F, -2}, {0x29, 8}, {0x30, 4}, {0x32, -2}, {0x33, 2}, {0x36, -2}, {0x37, -2}, {0x38, 4}, {0x3A, 2}, {0x3B, -2}, {0x3E, 2}, {0x3F, 2}, {0x42, -2}, {0x43, 2}, {0x45, -4}, {0x46, 2}, {0x47, 2}, {0x4A, -2}, {0x4B, 2}, {0x4D, 4}, {0x4E, 2}, {0x4F, 2}, {0x53, -4}, {0x57, 4}, {0x5A, 4}, {0x5E, 4}, {0x62, 2}, {0x63, -2}, {0x65, 4}, {0x66, -2}, {0x67, -2}, {0x6A, -2}, {0x6B, 2}, {0x6D, 4}, {0x6E, 2}, {0x6F, 2}, {0x70, -4}, {0x74, 4}, {0x78, 4}, {0x7C, 4}, {0x80, -2}, {0x81, 4}, {0x82, 2}, {0x83, 4}, {0x84, 2}, {0x86, -2}, {0x88, -2}, {0x8A, 2}, {0x8C, -2}, {0x8E, 2}, {0x90, 2}, {0x91, -4}, {0x92, 4}, {0x93, 2}, {0x94, 2}, {0x97, 2}, {0x98, 2}, {0x9B, 2}, {0x9C, -2}, {0x9F, -2}, {0xA0, 2}, {0xA1, 4}, {0xA2, 2}, {0xA4, -2}, {0xA6, -2}, {0xA7, 4}, {0xA8, 2}, {0xAA, -2}, {0xAC, 2}, {0xAE, -2}, {0xB0, 2}, {0xB1, 4}, {0xB3, -2}, {0xB4, 2}, {0xB6, 4}, {0xB7, -2}, {0xB8, 2}, {0xBB, 2}, {0xBC, -2}, {0xBF, -2}, {0xC0, -2}, {0xC3, 2}, {0xC4, -2}, {0xC5, 4}, {0xC6, 4}, {0xC7, 2}, {0xC8, 2}, {0xCB, -2}, {0xCC, -2}, {0xCF, 2}, {0xD0, 2}, {0xD2, 2}, {0xD4, 2}, {0xD6, 2}, {0xD8, -2}, {0xDA, -2}, {0xDC, 2}, {0xDD, -4}, {0xDE, 2}, {0xDF, 4}, {0xE0, 2}, {0xE2, -4}, {0xE3, 2}, {0xE4, 2}, {0xE5, 4}, {0xE7, 2}, {0xE8, -2}, {0xEB, 2}, {0xEC, 2}, {0xEF, -2}, {0xF0, 2}, {0xF2, 2}, {0xF4, 2}, {0xF6, 2}, {0xF8, -2}, {0xFA, 2}, {0xFB, -4}, {0xFC, 2}, {0xFD, 4}, {0xFE, -2}, },\n",
      "{ {0x02, -2}, {0x03, 2}, {0x04, 4}, {0x06, -2}, {0x07, -2}, {0x0A, 2}, {0x0B, -2}, {0x0C, 4}, {0x0E, 2}, {0x0F, 2}, {0x11, -4}, {0x15, 4}, {0x19, 4}, {0x1D, 4}, {0x22, 2}, {0x23, -2}, {0x24, -4}, {0x26, 2}, {0x27, 2}, {0x2A, 2}, {0x2B, -2}, {0x2C, 4}, {0x2E, 2}, {0x2F, 2}, {0x32, -4}, {0x36, 4}, {0x3B, 4}, {0x3F, 4}, {0x48, 8}, {0x51, 4}, {0x52, 2}, {0x53, -2}, {0x56, -2}, {0x57, -2}, {0x59, 4}, {0x5A, -2}, {0x5B, 2}, {0x5E, 2}, {0x5F, 2}, {0x6A, 4}, {0x6B, 4}, {0x6E, 4}, {0x6F, -4}, {0x72, 2}, {0x73, 2}, {0x75, -4}, {0x76, -2}, {0x77, 2}, {0x7A, 2}, {0x7B, 2}, {0x7D, 4}, {0x7E, -2}, {0x7F, 2}, {0x81, 2}, {0x82, 2}, {0x83, -4}, {0x84, 4}, {0x85, 2}, {0x86, 2}, {0x89, -2}, {0x8A, 2}, {0x8D, 2}, {0x8E, -2}, {0x91, 2}, {0x93, 2}, {0x95, 2}, {0x97, 2}, {0x99, -2}, {0x9A, -4}, {0x9B, 2}, {0x9C, 4}, {0x9D, 2}, {0x9F, -2}, {0xA1, -2}, {0xA2, 2}, {0xA4, 4}, {0xA5, -2}, {0xA6, 2}, {0xA7, 4}, {0xA9, 2}, {0xAA, -2}, {0xAD, -2}, {0xAE, 2}, {0xB1, 2}, {0xB3, 2}, {0xB5, 2}, {0xB7, 2}, {0xB9, -2}, {0xBB, -2}, {0xBC, -4}, {0xBD, 2}, {0xBE, 4}, {0xBF, 2}, {0xC0, 4}, {0xC1, 2}, {0xC3, 2}, {0xC5, -2}, {0xC6, 4}, {0xC7, -2}, {0xC9, 2}, {0xCB, -2}, {0xCD, 2}, {0xCF, -2}, {0xD0, 4}, {0xD1, 2}, {0xD2, -2}, {0xD5, 2}, {0xD6, -2}, {0xD7, 4}, {0xD9, 2}, {0xDA, 2}, {0xDD, -2}, {0xDE, -2}, {0xE0, 4}, {0xE1, -2}, {0xE2, 4}, {0xE3, 2}, {0xE5, 2}, {0xE7, -2}, {0xE9, -2}, {0xEB, 2}, {0xED, -2}, {0xEF, 2}, {0xF0, -4}, {0xF1, 2}, {0xF2, 2}, {0xF3, 4}, {0xF5, 2}, {0xF6, 2}, {0xF9, 2}, {0xFA, 2}, {0xFD, -2}, {0xFE, -2}, },\n",
      "{ {0x02, 2}, {0x03, -2}, {0x05, 4}, {0x06, -2}, {0x07, -2}, {0x0A, -2}, {0x0B, 2}, {0x0D, 4}, {0x0E, 2}, {0x0F, 2}, {0x10, -4}, {0x14, 4}, {0x18, 4}, {0x1C, 4}, {0x22, -2}, {0x23, 2}, {0x25, -4}, {0x26, 2}, {0x27, 2}, {0x2A, -2}, {0x2B, 2}, {0x2D, 4}, {0x2E, 2}, {0x2F, 2}, {0x33, -4}, {0x37, 4}, {0x3A, 4}, {0x3E, 4}, {0x49, 8}, {0x50, 4}, {0x52, -2}, {0x53, 2}, {0x56, -2}, {0x57, -2}, {0x58, 4}, {0x5A, 2}, {0x5B, -2}, {0x5E, 2}, {0x5F, 2}, {0x6A, 4}, {0x6B, 4}, {0x6E, -4}, {0x6F, 4}, {0x72, 2}, {0x73, 2}, {0x74, -4}, {0x76, 2}, {0x77, -2}, {0x7A, 2}, {0x7B, 2}, {0x7C, 4}, {0x7E, 2}, {0x7F, -2}, {0x80, 2}, {0x82, -4}, {0x83, 2}, {0x84, 2}, {0x85, 4}, {0x87, 2}, {0x88, -2}, {0x8B, 2}, {0x8C, 2}, {0x8F, -2}, {0x90, 2}, {0x92, 2}, {0x94, 2}, {0x96, 2}, {0x98, -2}, {0x9A, 2}, {0x9B, -4}, {0x9C, 2}, {0x9D, 4}, {0x9E, -2}, {0xA0, -2}, {0xA3, 2}, {0xA4, -2}, {0xA5, 4}, {0xA6, 4}, {0xA7, 2}, {0xA8, 2}, {0xAB, -2}, {0xAC, -2}, {0xAF, 2}, {0xB0, 2}, {0xB2, 2}, {0xB4, 2}, {0xB6, 2}, {0xB8, -2}, {0xBA, -2}, {0xBC, 2}, {0xBD, -4}, {0xBE, 2}, {0xBF, 4}, {0xC0, 2}, {0xC1, 4}, {0xC2, 2}, {0xC4, -2}, {0xC6, -2}, {0xC7, 4}, {0xC8, 2}, {0xCA, -2}, {0xCC, 2}, {0xCE, -2}, {0xD0, 2}, {0xD1, 4}, {0xD3, -2}, {0xD4, 2}, {0xD6, 4}, {0xD7, -2}, {0xD8, 2}, {0xDB, 2}, {0xDC, -2}, {0xDF, -2}, {0xE0, -2}, {0xE1, 4}, {0xE2, 2}, {0xE3, 4}, {0xE4, 2}, {0xE6, -2}, {0xE8, -2}, {0xEA, 2}, {0xEC, -2}, {0xEE, 2}, {0xF0, 2}, {0xF1, -4}, {0xF2, 4}, {0xF3, 2}, {0xF4, 2}, {0xF7, 2}, {0xF8, 2}, {0xFB, 2}, {0xFC, -2}, {0xFF, -2}, },\n",
      "{ {0x02, 2}, {0x03, -2}, {0x04, -4}, {0x06, 2}, {0x07, 2}, {0x0A, 2}, {0x0B, -2}, {0x0C, 4}, {0x0E, 2}, {0x0F, 2}, {0x12, -4}, {0x16, 4}, {0x1B, 4}, {0x1F, 4}, {0x22, -2}, {0x23, 2}, {0x24, 4}, {0x26, -2}, {0x27, -2}, {0x2A, 2}, {0x2B, -2}, {0x2C, 4}, {0x2E, 2}, {0x2F, 2}, {0x31, -4}, {0x35, 4}, {0x39, 4}, {0x3D, 4}, {0x4A, 4}, {0x4B, 4}, {0x4E, 4}, {0x4F, -4}, {0x52, 2}, {0x53, 2}, {0x55, -4}, {0x56, -2}, {0x57, 2}, {0x5A, 2}, {0x5B, 2}, {0x5D, 4}, {0x5E, -2}, {0x5F, 2}, {0x68, 8}, {0x71, 4}, {0x72, 2}, {0x73, -2}, {0x76, -2}, {0x77, -2}, {0x79, 4}, {0x7A, -2}, {0x7B, 2}, {0x7E, 2}, {0x7F, 2}, {0x81, -2}, {0x82, 2}, {0x84, 4}, {0x85, -2}, {0x86, 2}, {0x87, 4}, {0x89, 2}, {0x8A, -2}, {0x8D, -2}, {0x8E, 2}, {0x91, 2}, {0x93, 2}, {0x95, 2}, {0x97, 2}, {0x99, -2}, {0x9B, -2}, {0x9C, -4}, {0x9D, 2}, {0x9E, 4}, {0x9F, 2}, {0xA1, 2}, {0xA2, 2}, {0xA3, -4}, {0xA4, 4}, {0xA5, 2}, {0xA6, 2}, {0xA9, -2}, {0xAA, 2}, {0xAD, 2}, {0xAE, -2}, {0xB1, 2}, {0xB3, 2}, {0xB5, 2}, {0xB7, 2}, {0xB9, -2}, {0xBA, -4}, {0xBB, 2}, {0xBC, 4}, {0xBD, 2}, {0xBF, -2}, {0xC0, 4}, {0xC1, -2}, {0xC2, 4}, {0xC3, 2}, {0xC5, 2}, {0xC7, -2}, {0xC9, -2}, {0xCB, 2}, {0xCD, -2}, {0xCF, 2}, {0xD0, -4}, {0xD1, 2}, {0xD2, 2}, {0xD3, 4}, {0xD5, 2}, {0xD6, 2}, {0xD9, 2}, {0xDA, 2}, {0xDD, -2}, {0xDE, -2}, {0xE0, 4}, {0xE1, 2}, {0xE3, 2}, {0xE5, -2}, {0xE6, 4}, {0xE7, -2}, {0xE9, 2}, {0xEB, -2}, {0xED, 2}, {0xEF, -2}, {0xF0, 4}, {0xF1, 2}, {0xF2, -2}, {0xF5, 2}, {0xF6, -2}, {0xF7, 4}, {0xF9, 2}, {0xFA, 2}, {0xFD, -2}, {0xFE, -2}, },\n"
     ]
    },
    {
     "name": "stdout",
     "output_type": "stream",
     "text": [
      "{ {0x02, -2}, {0x03, 2}, {0x05, -4}, {0x06, 2}, {0x07, 2}, {0x0A, -2}, {0x0B, 2}, {0x0D, 4}, {0x0E, 2}, {0x0F, 2}, {0x13, -4}, {0x17, 4}, {0x1A, 4}, {0x1E, 4}, {0x22, 2}, {0x23, -2}, {0x25, 4}, {0x26, -2}, {0x27, -2}, {0x2A, -2}, {0x2B, 2}, {0x2D, 4}, {0x2E, 2}, {0x2F, 2}, {0x30, -4}, {0x34, 4}, {0x38, 4}, {0x3C, 4}, {0x4A, 4}, {0x4B, 4}, {0x4E, -4}, {0x4F, 4}, {0x52, 2}, {0x53, 2}, {0x54, -4}, {0x56, 2}, {0x57, -2}, {0x5A, 2}, {0x5B, 2}, {0x5C, 4}, {0x5E, 2}, {0x5F, -2}, {0x69, 8}, {0x70, 4}, {0x72, -2}, {0x73, 2}, {0x76, -2}, {0x77, -2}, {0x78, 4}, {0x7A, 2}, {0x7B, -2}, {0x7E, 2}, {0x7F, 2}, {0x80, -2}, {0x83, 2}, {0x84, -2}, {0x85, 4}, {0x86, 4}, {0x87, 2}, {0x88, 2}, {0x8B, -2}, {0x8C, -2}, {0x8F, 2}, {0x90, 2}, {0x92, 2}, {0x94, 2}, {0x96, 2}, {0x98, -2}, {0x9A, -2}, {0x9C, 2}, {0x9D, -4}, {0x9E, 2}, {0x9F, 4}, {0xA0, 2}, {0xA2, -4}, {0xA3, 2}, {0xA4, 2}, {0xA5, 4}, {0xA7, 2}, {0xA8, -2}, {0xAB, 2}, {0xAC, 2}, {0xAF, -2}, {0xB0, 2}, {0xB2, 2}, {0xB4, 2}, {0xB6, 2}, {0xB8, -2}, {0xBA, 2}, {0xBB, -4}, {0xBC, 2}, {0xBD, 4}, {0xBE, -2}, {0xC0, -2}, {0xC1, 4}, {0xC2, 2}, {0xC3, 4}, {0xC4, 2}, {0xC6, -2}, {0xC8, -2}, {0xCA, 2}, {0xCC, -2}, {0xCE, 2}, {0xD0, 2}, {0xD1, -4}, {0xD2, 4}, {0xD3, 2}, {0xD4, 2}, {0xD7, 2}, {0xD8, 2}, {0xDB, 2}, {0xDC, -2}, {0xDF, -2}, {0xE0, 2}, {0xE1, 4}, {0xE2, 2}, {0xE4, -2}, {0xE6, -2}, {0xE7, 4}, {0xE8, 2}, {0xEA, -2}, {0xEC, 2}, {0xEE, -2}, {0xF0, 2}, {0xF1, 4}, {0xF3, -2}, {0xF4, 2}, {0xF6, 4}, {0xF7, -2}, {0xF8, 2}, {0xFB, 2}, {0xFC, -2}, {0xFF, -2}, },\n"
     ]
    }
   ],
   "source": [
    "# extract nonzero entry\n",
    "for i in range(16):\n",
    "    print \"{\",\n",
    "    for j in range(256):\n",
    "        if LAT_SSb[i][j] != 0:\n",
    "            print \"{{0x{:02X}, {}}},\".format(j, LAT_SSb[i][j]),\n",
    "    print \"},\""
   ]
  },
  {
   "cell_type": "code",
   "execution_count": 13,
   "metadata": {
    "ExecuteTime": {
     "end_time": "2020-03-04T02:28:39.526544Z",
     "start_time": "2020-03-04T02:28:39.490550Z"
    },
    "deletable": false,
    "editable": false
   },
   "outputs": [
    {
     "name": "stdout",
     "output_type": "stream",
     "text": [
      "LAT = [\n",
      "\t(8, 0, 0, 0, 0, 0, 0, 0, 0, 0, 0, 0, 0, 0, 0, 0, 0, 4, -2, 2, 0, 0, 2, 2, 0, 4, 2, -2, 0, 0, -2, -2, 0, 0, 4, 4, 0, 0, 4, -4, 0, 0, 0, 0, 0, 0, 0, 0, 0, 0, 2, 2, 0, 4, -2, 2, 0, 0, 2, 2, 0, -4, -2, 2, 0, 0, 2, -2, 4, 0, 2, 2, 0, 0, -2, 2, 4, 0, -2, -2, 0, 4, 0, 0, 0, 4, 0, 0, 0, -4, 0, 0, 0, 4, 0, 0, 0, 0, 2, -2, 4, 0, 2, 2, 0, 0, 2, -2, -4, 0, 2, 2, 0, 0, 0, 4, 0, 0, 0, 4, 0, 0, -4, 0, 0, 0, 4, 0, 0, 2, 0, -2, 0, 2, 0, -2, 4, 2, 0, 2, 0, -2, 4, -2, 0, 2, 2, 0, 0, -2, -2, 0, 4, 2, -2, 0, 0, 2, -2, 4, 0, -2, 0, 2, 0, -2, 0, 2, 4, -2, 4, 2, 0, 2, 0, -2, 0, 2, 2, 0, 0, -2, -2, 0, -4, 2, 2, 4, 0, 2, 2, 0, 0, -2, 2, 0, 0, 2, -2, 0, 0, 2, 2, -4, 4, 2, 2, 0, 0, -2, -4, 2, 4, 2, 0, -2, 0, 2, 0, 2, 0, 2, 0, 2, 0, 2, -2, 0, 0, -2, 2, 0, 0, -2, 2, 0, 4, -2, 2, 4, 0, -2, 0, -2, -4, 2, 4, 2, 0, 2, 0, 2, 0, 2, 0, 2)\n",
      "\t(0, 8, 0, 0, 0, 0, 0, 0, 0, 0, 0, 0, 0, 0, 0, 0, 4, 0, 2, -2, 0, 0, 2, 2, 4, 0, -2, 2, 0, 0, -2, -2, 0, 0, 4, 4, 0, 0, -4, 4, 0, 0, 0, 0, 0, 0, 0, 0, 0, 0, 2, 2, 4, 0, 2, -2, 0, 0, 2, 2, -4, 0, 2, -2, 0, 0, -2, 2, 0, 4, 2, 2, 0, 0, 2, -2, 0, 4, -2, -2, 4, 0, 0, 0, 4, 0, 0, 0, -4, 0, 0, 0, 4, 0, 0, 0, 0, 0, -2, 2, 0, 4, 2, 2, 0, 0, -2, 2, 0, -4, 2, 2, 0, 0, 4, 0, 0, 0, 4, 0, 0, 0, 0, -4, 0, 0, 0, 4, 2, 0, -2, 0, 2, 0, -2, 0, 2, 4, 2, 0, -2, 0, -2, 4, 2, 0, 0, 2, -2, 0, 0, -2, 2, 4, 0, -2, 2, 0, 4, -2, -2, 0, 2, 0, -2, 0, 2, 0, -2, 4, 2, 4, 2, 0, -2, 0, 2, 0, 0, 2, -2, 0, 0, -2, 2, -4, 4, 2, 2, 0, 0, 2, -2, 0, 0, 2, 2, 0, 0, -2, 2, 0, -4, 2, 2, 4, 0, 2, -2, 0, 2, -4, 2, 4, -2, 0, 2, 0, 2, 0, 2, 0, 2, 0, 2, 0, 0, -2, -2, 0, 0, 2, -2, 0, 0, 2, -2, 4, 4, 2, -2, 0, -2, 0, 2, -4, 2, 4, 2, 0, 2, 0, 2, 0, 2, 0)\n",
      "\t(0, 0, 4, 4, 0, 0, 4, -4, 0, 0, 0, 0, 0, 0, 0, 0, 0, 0, 2, 2, 0, 4, -2, 2, 0, 0, 2, 2, 0, -4, -2, 2, 8, 0, 0, 0, 0, 0, 0, 0, 0, 0, 0, 0, 0, 0, 0, 0, 0, 4, -2, 2, 0, 0, 2, 2, 0, 4, 2, -2, 0, 0, -2, -2, 0, 0, 2, -2, 4, 0, 2, 2, 0, 0, 2, -2, -4, 0, 2, 2, 0, 0, 0, 4, 0, 0, 0, 4, 0, 0, -4, 0, 0, 0, 4, 0, 0, 0, 2, -2, 4, 0, 2, 2, 0, 0, -2, 2, 4, 0, -2, -2, 0, 4, 0, 0, 0, 4, 0, 0, 0, -4, 0, 0, 0, 4, 0, 0, 0, -2, 0, 2, 0, -2, 0, 2, 4, -2, 4, 2, 0, 2, 0, -2, 0, 2, 2, 0, 0, -2, -2, 0, -4, 2, 2, 4, 0, 2, 2, 0, 0, 2, 0, -2, 0, 2, 0, -2, 4, 2, 0, 2, 0, -2, 4, -2, 0, 2, 2, 0, 0, -2, -2, 0, 4, 2, -2, 0, 0, 2, -2, 4, 0, 2, -2, 0, 0, -2, 2, 0, 0, -2, 2, 0, 4, -2, 2, 4, 0, -2, 0, -2, -4, 2, 4, 2, 0, 2, 0, 2, 0, 2, 0, 2, 0, -2, 2, 0, 0, 2, -2, 0, 0, 2, 2, -4, 4, 2, 2, 0, 0, -2, -4, 2, 4, 2, 0, -2, 0, 2, 0, 2, 0, 2, 0, 2)\n",
      "\t(0, 0, 4, 4, 0, 0, -4, 4, 0, 0, 0, 0, 0, 0, 0, 0, 0, 0, 2, 2, 4, 0, 2, -2, 0, 0, 2, 2, -4, 0, 2, -2, 0, 8, 0, 0, 0, 0, 0, 0, 0, 0, 0, 0, 0, 0, 0, 0, 4, 0, 2, -2, 0, 0, 2, 2, 4, 0, -2, 2, 0, 0, -2, -2, 0, 0, -2, 2, 0, 4, 2, 2, 0, 0, -2, 2, 0, -4, 2, 2, 0, 0, 4, 0, 0, 0, 4, 0, 0, 0, 0, -4, 0, 0, 0, 4, 0, 0, -2, 2, 0, 4, 2, 2, 0, 0, 2, -2, 0, 4, -2, -2, 4, 0, 0, 0, 4, 0, 0, 0, -4, 0, 0, 0, 4, 0, 0, 0, -2, 0, 2, 0, -2, 0, 2, 0, -2, 4, 2, 4, 2, 0, -2, 0, 2, 0, 0, 2, -2, 0, 0, -2, 2, -4, 4, 2, 2, 0, 0, 2, 2, 0, -2, 0, 2, 0, -2, 0, 2, 4, 2, 0, -2, 0, -2, 4, 2, 0, 0, 2, -2, 0, 0, -2, 2, 4, 0, -2, 2, 0, 4, -2, 2, 0, 0, -2, -2, 0, 0, 2, -2, 0, 0, 2, -2, 4, 4, 2, -2, 0, -2, 0, 2, -4, 2, 4, 2, 0, 2, 0, 2, 0, 2, 0, -2, 0, 0, 2, 2, 0, 0, -2, 2, 0, -4, 2, 2, 4, 0, 2, -2, 0, 2, -4, 2, 4, -2, 0, 2, 0, 2, 0, 2, 0, 2, 0)\n",
      "\t(0, 0, 2, -2, 4, 0, 2, 2, 0, 0, -2, 2, 4, 0, -2, -2, 0, 4, 0, 0, 0, 4, 0, 0, 0, -4, 0, 0, 0, 4, 0, 0, 0, 0, 2, -2, 4, 0, 2, 2, 0, 0, 2, -2, -4, 0, 2, 2, 0, 0, 0, 4, 0, 0, 0, 4, 0, 0, -4, 0, 0, 0, 4, 0, 8, 0, 0, 0, 0, 0, 0, 0, 0, 0, 0, 0, 0, 0, 0, 0, 0, 4, -2, 2, 0, 0, 2, 2, 0, 4, 2, -2, 0, 0, -2, -2, 0, 0, 4, 4, 0, 0, 4, -4, 0, 0, 0, 0, 0, 0, 0, 0, 0, 0, 2, 2, 0, 4, -2, 2, 0, 0, 2, 2, 0, -4, -2, 2, 0, -2, 2, 0, 0, 2, -2, 0, 0, 2, 2, -4, 4, 2, 2, 0, 0, -2, -4, 2, 4, 2, 0, -2, 0, 2, 0, 2, 0, 2, 0, 2, 0, 2, -2, 0, 0, -2, 2, 0, 0, -2, 2, 0, 4, -2, 2, 4, 0, -2, 0, -2, -4, 2, 4, 2, 0, 2, 0, 2, 0, 2, 0, 2, 0, 2, 0, -2, 0, 2, 0, -2, 4, 2, 0, 2, 0, -2, 4, -2, 0, 2, 2, 0, 0, -2, -2, 0, 4, 2, -2, 0, 0, 2, -2, 4, 0, -2, 0, 2, 0, -2, 0, 2, 4, -2, 4, 2, 0, 2, 0, -2, 0, 2, 2, 0, 0, -2, -2, 0, -4, 2, 2, 4, 0, 2, 2, 0)\n",
      "\t(0, 0, -2, 2, 0, 4, 2, 2, 0, 0, 2, -2, 0, 4, -2, -2, 4, 0, 0, 0, 4, 0, 0, 0, -4, 0, 0, 0, 4, 0, 0, 0, 0, 0, -2, 2, 0, 4, 2, 2, 0, 0, -2, 2, 0, -4, 2, 2, 0, 0, 4, 0, 0, 0, 4, 0, 0, 0, 0, -4, 0, 0, 0, 4, 0, 8, 0, 0, 0, 0, 0, 0, 0, 0, 0, 0, 0, 0, 0, 0, 4, 0, 2, -2, 0, 0, 2, 2, 4, 0, -2, 2, 0, 0, -2, -2, 0, 0, 4, 4, 0, 0, -4, 4, 0, 0, 0, 0, 0, 0, 0, 0, 0, 0, 2, 2, 4, 0, 2, -2, 0, 0, 2, 2, -4, 0, 2, -2, -2, 0, 0, 2, 2, 0, 0, -2, 2, 0, -4, 2, 2, 4, 0, 2, -2, 0, 2, -4, 2, 4, -2, 0, 2, 0, 2, 0, 2, 0, 2, 0, 2, 0, 0, -2, -2, 0, 0, 2, -2, 0, 0, 2, -2, 4, 4, 2, -2, 0, -2, 0, 2, -4, 2, 4, 2, 0, 2, 0, 2, 0, 2, 0, 2, 0, -2, 0, 2, 0, -2, 0, 2, 4, 2, 0, -2, 0, -2, 4, 2, 0, 0, 2, -2, 0, 0, -2, 2, 4, 0, -2, 2, 0, 4, -2, -2, 0, 2, 0, -2, 0, 2, 0, -2, 4, 2, 4, 2, 0, -2, 0, 2, 0, 0, 2, -2, 0, 0, -2, 2, -4, 4, 2, 2, 0, 0, 2)\n",
      "\t(0, 0, 2, -2, 4, 0, 2, 2, 0, 0, 2, -2, -4, 0, 2, 2, 0, 0, 0, 4, 0, 0, 0, 4, 0, 0, -4, 0, 0, 0, 4, 0, 0, 0, 2, -2, 4, 0, 2, 2, 0, 0, -2, 2, 4, 0, -2, -2, 0, 4, 0, 0, 0, 4, 0, 0, 0, -4, 0, 0, 0, 4, 0, 0, 0, 0, 4, 4, 0, 0, 4, -4, 0, 0, 0, 0, 0, 0, 0, 0, 0, 0, 2, 2, 0, 4, -2, 2, 0, 0, 2, 2, 0, -4, -2, 2, 8, 0, 0, 0, 0, 0, 0, 0, 0, 0, 0, 0, 0, 0, 0, 0, 0, 4, -2, 2, 0, 0, 2, 2, 0, 4, 2, -2, 0, 0, -2, -2, 0, 2, -2, 0, 0, -2, 2, 0, 0, -2, 2, 0, 4, -2, 2, 4, 0, -2, 0, -2, -4, 2, 4, 2, 0, 2, 0, 2, 0, 2, 0, 2, 0, -2, 2, 0, 0, 2, -2, 0, 0, 2, 2, -4, 4, 2, 2, 0, 0, -2, -4, 2, 4, 2, 0, -2, 0, 2, 0, 2, 0, 2, 0, 2, 0, -2, 0, 2, 0, -2, 0, 2, 4, -2, 4, 2, 0, 2, 0, -2, 0, 2, 2, 0, 0, -2, -2, 0, -4, 2, 2, 4, 0, 2, 2, 0, 0, 2, 0, -2, 0, 2, 0, -2, 4, 2, 0, 2, 0, -2, 4, -2, 0, 2, 2, 0, 0, -2, -2, 0, 4, 2, -2, 0, 0, 2, -2, 4)\n",
      "\t(0, 0, -2, 2, 0, 4, 2, 2, 0, 0, -2, 2, 0, -4, 2, 2, 0, 0, 4, 0, 0, 0, 4, 0, 0, 0, 0, -4, 0, 0, 0, 4, 0, 0, -2, 2, 0, 4, 2, 2, 0, 0, 2, -2, 0, 4, -2, -2, 4, 0, 0, 0, 4, 0, 0, 0, -4, 0, 0, 0, 4, 0, 0, 0, 0, 0, 4, 4, 0, 0, -4, 4, 0, 0, 0, 0, 0, 0, 0, 0, 0, 0, 2, 2, 4, 0, 2, -2, 0, 0, 2, 2, -4, 0, 2, -2, 0, 8, 0, 0, 0, 0, 0, 0, 0, 0, 0, 0, 0, 0, 0, 0, 4, 0, 2, -2, 0, 0, 2, 2, 4, 0, -2, 2, 0, 0, -2, -2, 2, 0, 0, -2, -2, 0, 0, 2, -2, 0, 0, 2, -2, 4, 4, 2, -2, 0, -2, 0, 2, -4, 2, 4, 2, 0, 2, 0, 2, 0, 2, 0, -2, 0, 0, 2, 2, 0, 0, -2, 2, 0, -4, 2, 2, 4, 0, 2, -2, 0, 2, -4, 2, 4, -2, 0, 2, 0, 2, 0, 2, 0, 2, 0, -2, 0, 2, 0, -2, 0, 2, 0, -2, 4, 2, 4, 2, 0, -2, 0, 2, 0, 0, 2, -2, 0, 0, -2, 2, -4, 4, 2, 2, 0, 0, 2, 2, 0, -2, 0, 2, 0, -2, 0, 2, 4, 2, 0, -2, 0, -2, 4, 2, 0, 0, 2, -2, 0, 0, -2, 2, 4, 0, -2, 2, 0, 4, -2)\n",
      "\t(0, 0, 0, 0, 0, 0, 0, 0, 8, 0, 0, 0, 0, 0, 0, 0, 0, 4, 2, -2, 0, 0, -2, -2, 0, 4, -2, 2, 0, 0, 2, 2, 0, 0, 0, 0, 0, 0, 0, 0, 0, 0, 4, 4, 0, 0, 4, -4, 0, 0, 2, 2, 0, -4, -2, 2, 0, 0, 2, 2, 0, 4, -2, 2, 0, 0, -2, 2, 4, 0, -2, -2, 0, 0, 2, -2, 4, 0, 2, 2, 0, -4, 0, 0, 0, 4, 0, 0, 0, 4, 0, 0, 0, 4, 0, 0, 0, 0, 2, -2, -4, 0, 2, 2, 0, 0, 2, -2, 4, 0, 2, 2, 0, 0, -4, 0, 0, 0, 4, 0, 0, 0, 0, 4, 0, 0, 0, 4, 4, 2, 0, 2, 0, -2, 4, -2, 0, 2, 0, -2, 0, 2, 0, -2, 4, 2, -2, 0, 0, 2, -2, 4, 0, 2, 2, 0, 0, -2, -2, 0, 4, -2, 4, 2, 0, 2, 0, -2, 0, -2, 0, 2, 0, -2, 0, 2, -4, 2, 2, 4, 0, 2, 2, 0, 0, 2, 2, 0, 0, -2, -2, 0, 0, 2, 2, -4, 4, 2, 2, 0, 0, -2, 2, 0, 0, 2, -2, 0, 0, 2, 0, 2, 0, 2, 0, 2, 0, -2, -4, 2, 4, 2, 0, -2, 0, -2, 2, 0, 4, -2, 2, 4, 0, 2, -2, 0, 0, -2, 2, 0, 0, 2, 0, 2, 0, 2, 0, 2, 0, -2, 0, -2, -4, 2, 4, 2)\n",
      "\t(0, 0, 0, 0, 0, 0, 0, 0, 0, 8, 0, 0, 0, 0, 0, 0, 4, 0, -2, 2, 0, 0, -2, -2, 4, 0, 2, -2, 0, 0, 2, 2, 0, 0, 0, 0, 0, 0, 0, 0, 0, 0, 4, 4, 0, 0, -4, 4, 0, 0, 2, 2, -4, 0, 2, -2, 0, 0, 2, 2, 4, 0, 2, -2, 0, 0, 2, -2, 0, 4, -2, -2, 0, 0, -2, 2, 0, 4, 2, 2, -4, 0, 0, 0, 4, 0, 0, 0, 4, 0, 0, 0, 4, 0, 0, 0, 0, 0, -2, 2, 0, -4, 2, 2, 0, 0, -2, 2, 0, 4, 2, 2, 0, 0, 0, -4, 0, 0, 0, 4, 0, 0, 4, 0, 0, 0, 4, 0, 2, 4, 2, 0, -2, 0, -2, 4, 2, 0, -2, 0, 2, 0, -2, 0, 2, 4, 0, -2, 2, 0, 4, -2, 2, 0, 0, 2, -2, 0, 0, -2, -2, 4, 2, 4, 2, 0, -2, 0, -2, 0, 2, 0, -2, 0, 2, 0, 2, -4, 4, 2, 2, 0, 0, 2, 2, 0, 0, 2, -2, 0, 0, -2, 2, 0, -4, 2, 2, 4, 0, 2, -2, 0, 0, 2, 2, 0, 0, -2, 2, 0, 2, 0, 2, 0, 2, 0, -2, 0, 2, -4, 2, 4, -2, 0, -2, 0, 0, 2, -2, 4, 4, 2, 2, 0, 0, -2, -2, 0, 0, 2, 2, 0, 2, 0, 2, 0, 2, 0, -2, 0, -2, 0, 2, -4, 2, 4)\n",
      "\t(0, 0, 0, 0, 0, 0, 0, 0, 0, 0, 4, 4, 0, 0, 4, -4, 0, 0, 2, 2, 0, -4, -2, 2, 0, 0, 2, 2, 0, 4, -2, 2, 0, 0, 0, 0, 0, 0, 0, 0, 8, 0, 0, 0, 0, 0, 0, 0, 0, 4, 2, -2, 0, 0, -2, -2, 0, 4, -2, 2, 0, 0, 2, 2, 0, 0, 2, -2, -4, 0, 2, 2, 0, 0, 2, -2, 4, 0, 2, 2, 0, 0, -4, 0, 0, 0, 4, 0, 0, 0, 0, 4, 0, 0, 0, 4, 0, 0, -2, 2, 4, 0, -2, -2, 0, 0, 2, -2, 4, 0, 2, 2, 0, -4, 0, 0, 0, 4, 0, 0, 0, 4, 0, 0, 0, 4, 0, 0, 4, -2, 4, 2, 0, 2, 0, -2, 0, -2, 0, 2, 0, -2, 0, 2, -4, 2, 2, 4, 0, 2, 2, 0, 0, 2, 2, 0, 0, -2, -2, 0, 4, 2, 0, 2, 0, -2, 4, -2, 0, 2, 0, -2, 0, 2, 0, -2, 4, 2, -2, 0, 0, 2, -2, 4, 0, 2, 2, 0, 0, -2, -2, 0, 0, -2, 2, 0, 4, -2, 2, 4, 0, 2, -2, 0, 0, -2, 2, 0, 0, 2, 0, 2, 0, 2, 0, 2, 0, -2, 0, -2, -4, 2, 4, 2, 0, 2, 2, -4, 4, 2, 2, 0, 0, -2, 2, 0, 0, 2, -2, 0, 0, 2, 0, 2, 0, 2, 0, 2, 0, -2, -4, 2, 4, 2, 0, -2)\n",
      "\t(0, 0, 0, 0, 0, 0, 0, 0, 0, 0, 4, 4, 0, 0, -4, 4, 0, 0, 2, 2, -4, 0, 2, -2, 0, 0, 2, 2, 4, 0, 2, -2, 0, 0, 0, 0, 0, 0, 0, 0, 0, 8, 0, 0, 0, 0, 0, 0, 4, 0, -2, 2, 0, 0, -2, -2, 4, 0, 2, -2, 0, 0, 2, 2, 0, 0, -2, 2, 0, -4, 2, 2, 0, 0, -2, 2, 0, 4, 2, 2, 0, 0, 0, -4, 0, 0, 0, 4, 0, 0, 4, 0, 0, 0, 4, 0, 0, 0, 2, -2, 0, 4, -2, -2, 0, 0, -2, 2, 0, 4, 2, 2, -4, 0, 0, 0, 4, 0, 0, 0, 4, 0, 0, 0, 4, 0, 0, 0, -2, 4, 2, 4, 2, 0, -2, 0, -2, 0, 2, 0, -2, 0, 2, 0, 2, -4, 4, 2, 2, 0, 0, 2, 2, 0, 0, 2, -2, 0, 0, -2, 2, 4, 2, 0, -2, 0, -2, 4, 2, 0, -2, 0, 2, 0, -2, 0, 2, 4, 0, -2, 2, 0, 4, -2, 2, 0, 0, 2, -2, 0, 0, -2, -2, 0, 0, 2, -2, 4, 4, 2, 2, 0, 0, -2, -2, 0, 0, 2, 2, 0, 2, 0, 2, 0, 2, 0, -2, 0, -2, 0, 2, -4, 2, 4, 2, 0, -4, 2, 2, 4, 0, 2, -2, 0, 0, 2, 2, 0, 0, -2, 2, 0, 2, 0, 2, 0, 2, 0, -2, 0, 2, -4, 2, 4, -2, 0)\n",
      "\t(0, 0, -2, 2, 4, 0, -2, -2, 0, 0, 2, -2, 4, 0, 2, 2, 0, -4, 0, 0, 0, 4, 0, 0, 0, 4, 0, 0, 0, 4, 0, 0, 0, 0, 2, -2, -4, 0, 2, 2, 0, 0, 2, -2, 4, 0, 2, 2, 0, 0, -4, 0, 0, 0, 4, 0, 0, 0, 0, 4, 0, 0, 0, 4, 0, 0, 0, 0, 0, 0, 0, 0, 8, 0, 0, 0, 0, 0, 0, 0, 0, 4, 2, -2, 0, 0, -2, -2, 0, 4, -2, 2, 0, 0, 2, 2, 0, 0, 0, 0, 0, 0, 0, 0, 0, 0, 4, 4, 0, 0, 4, -4, 0, 0, 2, 2, 0, -4, -2, 2, 0, 0, 2, 2, 0, 4, -2, 2, 0, 2, 2, -4, 4, 2, 2, 0, 0, -2, 2, 0, 0, 2, -2, 0, 0, 2, 0, 2, 0, 2, 0, 2, 0, -2, -4, 2, 4, 2, 0, -2, 0, -2, 2, 0, 4, -2, 2, 4, 0, 2, -2, 0, 0, -2, 2, 0, 0, 2, 0, 2, 0, 2, 0, 2, 0, -2, 0, -2, -4, 2, 4, 2, 4, 2, 0, 2, 0, -2, 4, -2, 0, 2, 0, -2, 0, 2, 0, -2, 4, 2, -2, 0, 0, 2, -2, 4, 0, 2, 2, 0, 0, -2, -2, 0, 4, -2, 4, 2, 0, 2, 0, -2, 0, -2, 0, 2, 0, -2, 0, 2, -4, 2, 2, 4, 0, 2, 2, 0, 0, 2, 2, 0, 0, -2, -2, 0)\n",
      "\t(0, 0, 2, -2, 0, 4, -2, -2, 0, 0, -2, 2, 0, 4, 2, 2, -4, 0, 0, 0, 4, 0, 0, 0, 4, 0, 0, 0, 4, 0, 0, 0, 0, 0, -2, 2, 0, -4, 2, 2, 0, 0, -2, 2, 0, 4, 2, 2, 0, 0, 0, -4, 0, 0, 0, 4, 0, 0, 4, 0, 0, 0, 4, 0, 0, 0, 0, 0, 0, 0, 0, 0, 0, 8, 0, 0, 0, 0, 0, 0, 4, 0, -2, 2, 0, 0, -2, -2, 4, 0, 2, -2, 0, 0, 2, 2, 0, 0, 0, 0, 0, 0, 0, 0, 0, 0, 4, 4, 0, 0, -4, 4, 0, 0, 2, 2, -4, 0, 2, -2, 0, 0, 2, 2, 4, 0, 2, -2, 2, 0, -4, 2, 2, 4, 0, 2, -2, 0, 0, 2, 2, 0, 0, -2, 2, 0, 2, 0, 2, 0, 2, 0, -2, 0, 2, -4, 2, 4, -2, 0, -2, 0, 0, 2, -2, 4, 4, 2, 2, 0, 0, -2, -2, 0, 0, 2, 2, 0, 2, 0, 2, 0, 2, 0, -2, 0, -2, 0, 2, -4, 2, 4, 2, 4, 2, 0, -2, 0, -2, 4, 2, 0, -2, 0, 2, 0, -2, 0, 2, 4, 0, -2, 2, 0, 4, -2, 2, 0, 0, 2, -2, 0, 0, -2, -2, 4, 2, 4, 2, 0, -2, 0, -2, 0, 2, 0, -2, 0, 2, 0, 2, -4, 4, 2, 2, 0, 0, 2, 2, 0, 0, 2, -2, 0, 0, -2)\n",
      "\t(0, 0, 2, -2, -4, 0, 2, 2, 0, 0, 2, -2, 4, 0, 2, 2, 0, 0, -4, 0, 0, 0, 4, 0, 0, 0, 0, 4, 0, 0, 0, 4, 0, 0, -2, 2, 4, 0, -2, -2, 0, 0, 2, -2, 4, 0, 2, 2, 0, -4, 0, 0, 0, 4, 0, 0, 0, 4, 0, 0, 0, 4, 0, 0, 0, 0, 0, 0, 0, 0, 0, 0, 0, 0, 4, 4, 0, 0, 4, -4, 0, 0, 2, 2, 0, -4, -2, 2, 0, 0, 2, 2, 0, 4, -2, 2, 0, 0, 0, 0, 0, 0, 0, 0, 8, 0, 0, 0, 0, 0, 0, 0, 0, 4, 2, -2, 0, 0, -2, -2, 0, 4, -2, 2, 0, 0, 2, 2, 0, -2, 2, 0, 4, -2, 2, 4, 0, 2, -2, 0, 0, -2, 2, 0, 0, 2, 0, 2, 0, 2, 0, 2, 0, -2, 0, -2, -4, 2, 4, 2, 0, 2, 2, -4, 4, 2, 2, 0, 0, -2, 2, 0, 0, 2, -2, 0, 0, 2, 0, 2, 0, 2, 0, 2, 0, -2, -4, 2, 4, 2, 0, -2, 4, -2, 4, 2, 0, 2, 0, -2, 0, -2, 0, 2, 0, -2, 0, 2, -4, 2, 2, 4, 0, 2, 2, 0, 0, 2, 2, 0, 0, -2, -2, 0, 4, 2, 0, 2, 0, -2, 4, -2, 0, 2, 0, -2, 0, 2, 0, -2, 4, 2, -2, 0, 0, 2, -2, 4, 0, 2, 2, 0, 0, -2, -2, 0)\n",
      "\t(0, 0, -2, 2, 0, -4, 2, 2, 0, 0, -2, 2, 0, 4, 2, 2, 0, 0, 0, -4, 0, 0, 0, 4, 0, 0, 4, 0, 0, 0, 4, 0, 0, 0, 2, -2, 0, 4, -2, -2, 0, 0, -2, 2, 0, 4, 2, 2, -4, 0, 0, 0, 4, 0, 0, 0, 4, 0, 0, 0, 4, 0, 0, 0, 0, 0, 0, 0, 0, 0, 0, 0, 0, 0, 4, 4, 0, 0, -4, 4, 0, 0, 2, 2, -4, 0, 2, -2, 0, 0, 2, 2, 4, 0, 2, -2, 0, 0, 0, 0, 0, 0, 0, 0, 0, 8, 0, 0, 0, 0, 0, 0, 4, 0, -2, 2, 0, 0, -2, -2, 4, 0, 2, -2, 0, 0, 2, 2, -2, 0, 0, 2, -2, 4, 4, 2, 2, 0, 0, -2, -2, 0, 0, 2, 2, 0, 2, 0, 2, 0, 2, 0, -2, 0, -2, 0, 2, -4, 2, 4, 2, 0, -4, 2, 2, 4, 0, 2, -2, 0, 0, 2, 2, 0, 0, -2, 2, 0, 2, 0, 2, 0, 2, 0, -2, 0, 2, -4, 2, 4, -2, 0, -2, 4, 2, 4, 2, 0, -2, 0, -2, 0, 2, 0, -2, 0, 2, 0, 2, -4, 4, 2, 2, 0, 0, 2, 2, 0, 0, 2, -2, 0, 0, -2, 2, 4, 2, 0, -2, 0, -2, 4, 2, 0, -2, 0, 2, 0, -2, 0, 2, 4, 0, -2, 2, 0, 4, -2, 2, 0, 0, 2, -2, 0, 0, -2)\n",
      "]\n"
     ]
    }
   ],
   "source": [
    "print(\"LAT = [\")\n",
    "for i in LAT_SSb:\n",
    "    print(\"\\t\"),\n",
    "    print(i)\n",
    "print(\"]\")"
   ]
  },
  {
   "cell_type": "markdown",
   "metadata": {},
   "source": [
    "## Property of LAT"
   ]
  },
  {
   "cell_type": "code",
   "execution_count": 14,
   "metadata": {
    "ExecuteTime": {
     "end_time": "2020-03-04T02:28:39.540570Z",
     "start_time": "2020-03-04T02:28:39.532862Z"
    },
    "deletable": false,
    "editable": false
   },
   "outputs": [
    {
     "name": "stdout",
     "output_type": "stream",
     "text": [
      "0x0: 8\n",
      "0x1: 0\n",
      "0x2: 0\n",
      "0x3: 0\n",
      "0x4: 0\n",
      "0x5: 0\n",
      "0x6: 0\n",
      "0x7: 0\n",
      "0x8: 0\n",
      "0x9: 0\n",
      "0xA: 0\n",
      "0xB: 0\n",
      "0xC: 0\n",
      "0xD: 0\n",
      "0xE: 0\n",
      "0xF: 0\n"
     ]
    }
   ],
   "source": [
    "for i in range(16):\n",
    "    print \"0x{:0X}: {}\".format(i, abs_LAT_SSb[i][0x00])"
   ]
  },
  {
   "cell_type": "code",
   "execution_count": 15,
   "metadata": {
    "ExecuteTime": {
     "end_time": "2020-03-04T02:28:39.564088Z",
     "start_time": "2020-03-04T02:28:39.546954Z"
    },
    "deletable": false,
    "editable": false
   },
   "outputs": [
    {
     "name": "stdout",
     "output_type": "stream",
     "text": [
      "in: 0, out: 00\n",
      "in: 1, out: 01\n",
      "in: 8, out: 08\n",
      "in: 9, out: 09\n",
      "in: 2, out: 20\n",
      "in: 3, out: 21\n",
      "in: A, out: 28\n",
      "in: B, out: 29\n",
      "in: 4, out: 40\n",
      "in: 5, out: 41\n",
      "in: C, out: 48\n",
      "in: D, out: 49\n",
      "in: 6, out: 60\n",
      "in: 7, out: 61\n",
      "in: E, out: 68\n",
      "in: F, out: 69\n",
      "max abs linear bias is 4 / 16\n"
     ]
    }
   ],
   "source": [
    "# extract abs linear biases with 2 ^ -1\n",
    "max_t = 0\n",
    "for i in range(256):\n",
    "    for j in range(16):\n",
    "        t = abs_LAT_SSb[j][i]\n",
    "        if t == 8:\n",
    "            print \"in: {:0X}, out: {:02X}\".format(j, i)\n",
    "        else:\n",
    "            if t > max_t:\n",
    "                max_t = t\n",
    "\n",
    "print \"max abs linear bias is {} / 16\".format(max_t)"
   ]
  },
  {
   "cell_type": "code",
   "execution_count": 16,
   "metadata": {
    "ExecuteTime": {
     "end_time": "2020-03-04T02:28:39.597115Z",
     "start_time": "2020-03-04T02:28:39.571387Z"
    },
    "deletable": false,
    "editable": false,
    "scrolled": false
   },
   "outputs": [
    {
     "name": "stdout",
     "output_type": "stream",
     "text": [
      "out:00: 8\n",
      "out:11: 4\n",
      "out:12: 2\n",
      "out:13: 2\n",
      "out:16: 2\n",
      "out:17: 2\n",
      "out:19: 4\n",
      "out:1A: 2\n",
      "out:1B: 2\n",
      "out:1E: 2\n",
      "out:1F: 2\n",
      "out:22: 4\n",
      "out:23: 4\n",
      "out:26: 4\n",
      "out:27: 4\n",
      "out:32: 2\n",
      "out:33: 2\n",
      "out:35: 4\n",
      "out:36: 2\n",
      "out:37: 2\n",
      "out:3A: 2\n",
      "out:3B: 2\n",
      "out:3D: 4\n",
      "out:3E: 2\n",
      "out:3F: 2\n",
      "out:42: 2\n",
      "out:43: 2\n",
      "out:44: 4\n",
      "out:46: 2\n",
      "out:47: 2\n",
      "out:4A: 2\n",
      "out:4B: 2\n",
      "out:4C: 4\n",
      "out:4E: 2\n",
      "out:4F: 2\n",
      "out:51: 4\n",
      "out:55: 4\n",
      "out:59: 4\n",
      "out:5D: 4\n",
      "out:62: 2\n",
      "out:63: 2\n",
      "out:64: 4\n",
      "out:66: 2\n",
      "out:67: 2\n",
      "out:6A: 2\n",
      "out:6B: 2\n",
      "out:6C: 4\n",
      "out:6E: 2\n",
      "out:6F: 2\n",
      "out:73: 4\n",
      "out:77: 4\n",
      "out:7A: 4\n",
      "out:7E: 4\n",
      "out:81: 2\n",
      "out:83: 2\n",
      "out:85: 2\n",
      "out:87: 2\n",
      "out:88: 4\n",
      "out:89: 2\n",
      "out:8B: 2\n",
      "out:8D: 2\n",
      "out:8E: 4\n",
      "out:8F: 2\n",
      "out:91: 2\n",
      "out:92: 2\n",
      "out:95: 2\n",
      "out:96: 2\n",
      "out:98: 4\n",
      "out:99: 2\n",
      "out:9A: 2\n",
      "out:9D: 2\n",
      "out:9E: 2\n",
      "out:9F: 4\n",
      "out:A1: 2\n",
      "out:A3: 2\n",
      "out:A5: 2\n",
      "out:A7: 2\n",
      "out:A8: 4\n",
      "out:A9: 2\n",
      "out:AA: 4\n",
      "out:AB: 2\n",
      "out:AD: 2\n",
      "out:AF: 2\n",
      "out:B1: 2\n",
      "out:B2: 2\n",
      "out:B5: 2\n",
      "out:B6: 2\n",
      "out:B8: 4\n",
      "out:B9: 2\n",
      "out:BA: 2\n",
      "out:BB: 4\n",
      "out:BD: 2\n",
      "out:BE: 2\n",
      "out:C1: 2\n",
      "out:C2: 2\n",
      "out:C5: 2\n",
      "out:C6: 2\n",
      "out:C9: 2\n",
      "out:CA: 2\n",
      "out:CB: 4\n",
      "out:CC: 4\n",
      "out:CD: 2\n",
      "out:CE: 2\n",
      "out:D1: 2\n",
      "out:D2: 4\n",
      "out:D3: 2\n",
      "out:D4: 4\n",
      "out:D5: 2\n",
      "out:D7: 2\n",
      "out:D9: 2\n",
      "out:DB: 2\n",
      "out:DD: 2\n",
      "out:DF: 2\n",
      "out:E1: 2\n",
      "out:E2: 2\n",
      "out:E5: 2\n",
      "out:E6: 2\n",
      "out:E9: 2\n",
      "out:EA: 2\n",
      "out:EC: 4\n",
      "out:ED: 2\n",
      "out:EE: 2\n",
      "out:EF: 4\n",
      "out:F1: 2\n",
      "out:F3: 2\n",
      "out:F4: 4\n",
      "out:F5: 2\n",
      "out:F6: 4\n",
      "out:F7: 2\n",
      "out:F9: 2\n",
      "out:FB: 2\n",
      "out:FD: 2\n",
      "out:FF: 2\n"
     ]
    }
   ],
   "source": [
    "# zero all passes\n",
    "for i in range(256):\n",
    "    if abs_LAT_SSb[0][i] != 0:\n",
    "        print \"out:{:02X}: {}\".format(i, abs_LAT_SSb[0][i])"
   ]
  }
 ],
 "metadata": {
  "kernelspec": {
   "display_name": "SageMath 8.8",
   "language": "sage",
   "name": "sagemath"
  },
  "language_info": {
   "codemirror_mode": {
    "name": "ipython",
    "version": 2
   },
   "file_extension": ".py",
   "mimetype": "text/x-python",
   "name": "python",
   "nbconvert_exporter": "python",
   "pygments_lexer": "ipython2",
   "version": "2.7.15"
  },
  "latex_envs": {
   "LaTeX_envs_menu_present": true,
   "autoclose": false,
   "autocomplete": true,
   "bibliofile": "biblio.bib",
   "cite_by": "apalike",
   "current_citInitial": 1,
   "eqLabelWithNumbers": true,
   "eqNumInitial": 1,
   "hotkeys": {
    "equation": "Ctrl-E",
    "itemize": "Ctrl-I"
   },
   "labels_anchors": false,
   "latex_user_defs": false,
   "report_style_numbering": false,
   "user_envs_cfg": false
  },
  "toc": {
   "base_numbering": 1,
   "nav_menu": {},
   "number_sections": true,
   "sideBar": true,
   "skip_h1_title": false,
   "title_cell": "Table of Contents",
   "title_sidebar": "Contents",
   "toc_cell": false,
   "toc_position": {},
   "toc_section_display": true,
   "toc_window_display": false
  }
 },
 "nbformat": 4,
 "nbformat_minor": 2
}
